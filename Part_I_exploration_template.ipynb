{
 "cells": [
  {
   "cell_type": "markdown",
   "metadata": {},
   "source": [
    "# Part I - Propser Loan Dataset Exploration\n",
    "## by Moyinoluwa Sobowale\n",
    "\n",
    "## Introduction\n",
    "> This notebook explores a Prosper loan dataset containing information of 113,937 loans with 81 variables(columns) on each loan. [Find column details here](https://docs.google.com/spreadsheets/d/1gDyi_L4UvIrLTEC6Wri5nbaMmkGmLQBk-Yx3z0XDEtI/edit#gid=0). \n",
    "\n",
    "Dataset provided by: Udacity.\n",
    "\n",
    "\n",
    "\n",
    "\n",
    "## Preliminary Wrangling\n"
   ]
  },
  {
   "cell_type": "markdown",
   "metadata": {},
   "source": [
    "> Import all the required python libraries and packages for this project"
   ]
  },
  {
   "cell_type": "code",
   "execution_count": 1,
   "metadata": {},
   "outputs": [],
   "source": [
    "# import all packages and set plots to be embedded inline\n",
    "import numpy as np\n",
    "import pandas as pd\n",
    "import matplotlib.pyplot as plt\n",
    "import seaborn as sb\n",
    "\n",
    "%matplotlib inline"
   ]
  },
  {
   "cell_type": "markdown",
   "metadata": {},
   "source": [
    "> Load in your dataset and describe its properties through the questions below. Try and motivate your exploration goals through this section.\n"
   ]
  },
  {
   "cell_type": "code",
   "execution_count": 2,
   "metadata": {},
   "outputs": [],
   "source": [
    "#Read the downloaded file (prosperLoanData.csv data) into a pandas dataframe called loan_data\n",
    "loan_data = pd.read_csv(\"/Users/mac/Downloads/MOYIN/Moe/UDACITY - DATA ANALYST NANODEGREE/PROJECT 3/prosperLoanData.csv\")"
   ]
  },
  {
   "cell_type": "markdown",
   "metadata": {},
   "source": [
    "> View the loan_data dataframe (prosperLoanData.csv data)"
   ]
  },
  {
   "cell_type": "code",
   "execution_count": 3,
   "metadata": {},
   "outputs": [
    {
     "data": {
      "text/html": [
       "<div>\n",
       "<style scoped>\n",
       "    .dataframe tbody tr th:only-of-type {\n",
       "        vertical-align: middle;\n",
       "    }\n",
       "\n",
       "    .dataframe tbody tr th {\n",
       "        vertical-align: top;\n",
       "    }\n",
       "\n",
       "    .dataframe thead th {\n",
       "        text-align: right;\n",
       "    }\n",
       "</style>\n",
       "<table border=\"1\" class=\"dataframe\">\n",
       "  <thead>\n",
       "    <tr style=\"text-align: right;\">\n",
       "      <th></th>\n",
       "      <th>ListingKey</th>\n",
       "      <th>ListingNumber</th>\n",
       "      <th>ListingCreationDate</th>\n",
       "      <th>CreditGrade</th>\n",
       "      <th>Term</th>\n",
       "      <th>LoanStatus</th>\n",
       "      <th>ClosedDate</th>\n",
       "      <th>BorrowerAPR</th>\n",
       "      <th>BorrowerRate</th>\n",
       "      <th>LenderYield</th>\n",
       "      <th>...</th>\n",
       "      <th>LP_ServiceFees</th>\n",
       "      <th>LP_CollectionFees</th>\n",
       "      <th>LP_GrossPrincipalLoss</th>\n",
       "      <th>LP_NetPrincipalLoss</th>\n",
       "      <th>LP_NonPrincipalRecoverypayments</th>\n",
       "      <th>PercentFunded</th>\n",
       "      <th>Recommendations</th>\n",
       "      <th>InvestmentFromFriendsCount</th>\n",
       "      <th>InvestmentFromFriendsAmount</th>\n",
       "      <th>Investors</th>\n",
       "    </tr>\n",
       "  </thead>\n",
       "  <tbody>\n",
       "    <tr>\n",
       "      <th>0</th>\n",
       "      <td>1021339766868145413AB3B</td>\n",
       "      <td>193129</td>\n",
       "      <td>2007-08-26 19:09:29.263000000</td>\n",
       "      <td>C</td>\n",
       "      <td>36</td>\n",
       "      <td>Completed</td>\n",
       "      <td>2009-08-14 00:00:00</td>\n",
       "      <td>0.16516</td>\n",
       "      <td>0.1580</td>\n",
       "      <td>0.1380</td>\n",
       "      <td>...</td>\n",
       "      <td>-133.18</td>\n",
       "      <td>0.0</td>\n",
       "      <td>0.0</td>\n",
       "      <td>0.0</td>\n",
       "      <td>0.0</td>\n",
       "      <td>1.0</td>\n",
       "      <td>0</td>\n",
       "      <td>0</td>\n",
       "      <td>0.0</td>\n",
       "      <td>258</td>\n",
       "    </tr>\n",
       "    <tr>\n",
       "      <th>1</th>\n",
       "      <td>10273602499503308B223C1</td>\n",
       "      <td>1209647</td>\n",
       "      <td>2014-02-27 08:28:07.900000000</td>\n",
       "      <td>NaN</td>\n",
       "      <td>36</td>\n",
       "      <td>Current</td>\n",
       "      <td>NaN</td>\n",
       "      <td>0.12016</td>\n",
       "      <td>0.0920</td>\n",
       "      <td>0.0820</td>\n",
       "      <td>...</td>\n",
       "      <td>0.00</td>\n",
       "      <td>0.0</td>\n",
       "      <td>0.0</td>\n",
       "      <td>0.0</td>\n",
       "      <td>0.0</td>\n",
       "      <td>1.0</td>\n",
       "      <td>0</td>\n",
       "      <td>0</td>\n",
       "      <td>0.0</td>\n",
       "      <td>1</td>\n",
       "    </tr>\n",
       "    <tr>\n",
       "      <th>2</th>\n",
       "      <td>0EE9337825851032864889A</td>\n",
       "      <td>81716</td>\n",
       "      <td>2007-01-05 15:00:47.090000000</td>\n",
       "      <td>HR</td>\n",
       "      <td>36</td>\n",
       "      <td>Completed</td>\n",
       "      <td>2009-12-17 00:00:00</td>\n",
       "      <td>0.28269</td>\n",
       "      <td>0.2750</td>\n",
       "      <td>0.2400</td>\n",
       "      <td>...</td>\n",
       "      <td>-24.20</td>\n",
       "      <td>0.0</td>\n",
       "      <td>0.0</td>\n",
       "      <td>0.0</td>\n",
       "      <td>0.0</td>\n",
       "      <td>1.0</td>\n",
       "      <td>0</td>\n",
       "      <td>0</td>\n",
       "      <td>0.0</td>\n",
       "      <td>41</td>\n",
       "    </tr>\n",
       "    <tr>\n",
       "      <th>3</th>\n",
       "      <td>0EF5356002482715299901A</td>\n",
       "      <td>658116</td>\n",
       "      <td>2012-10-22 11:02:35.010000000</td>\n",
       "      <td>NaN</td>\n",
       "      <td>36</td>\n",
       "      <td>Current</td>\n",
       "      <td>NaN</td>\n",
       "      <td>0.12528</td>\n",
       "      <td>0.0974</td>\n",
       "      <td>0.0874</td>\n",
       "      <td>...</td>\n",
       "      <td>-108.01</td>\n",
       "      <td>0.0</td>\n",
       "      <td>0.0</td>\n",
       "      <td>0.0</td>\n",
       "      <td>0.0</td>\n",
       "      <td>1.0</td>\n",
       "      <td>0</td>\n",
       "      <td>0</td>\n",
       "      <td>0.0</td>\n",
       "      <td>158</td>\n",
       "    </tr>\n",
       "    <tr>\n",
       "      <th>4</th>\n",
       "      <td>0F023589499656230C5E3E2</td>\n",
       "      <td>909464</td>\n",
       "      <td>2013-09-14 18:38:39.097000000</td>\n",
       "      <td>NaN</td>\n",
       "      <td>36</td>\n",
       "      <td>Current</td>\n",
       "      <td>NaN</td>\n",
       "      <td>0.24614</td>\n",
       "      <td>0.2085</td>\n",
       "      <td>0.1985</td>\n",
       "      <td>...</td>\n",
       "      <td>-60.27</td>\n",
       "      <td>0.0</td>\n",
       "      <td>0.0</td>\n",
       "      <td>0.0</td>\n",
       "      <td>0.0</td>\n",
       "      <td>1.0</td>\n",
       "      <td>0</td>\n",
       "      <td>0</td>\n",
       "      <td>0.0</td>\n",
       "      <td>20</td>\n",
       "    </tr>\n",
       "    <tr>\n",
       "      <th>...</th>\n",
       "      <td>...</td>\n",
       "      <td>...</td>\n",
       "      <td>...</td>\n",
       "      <td>...</td>\n",
       "      <td>...</td>\n",
       "      <td>...</td>\n",
       "      <td>...</td>\n",
       "      <td>...</td>\n",
       "      <td>...</td>\n",
       "      <td>...</td>\n",
       "      <td>...</td>\n",
       "      <td>...</td>\n",
       "      <td>...</td>\n",
       "      <td>...</td>\n",
       "      <td>...</td>\n",
       "      <td>...</td>\n",
       "      <td>...</td>\n",
       "      <td>...</td>\n",
       "      <td>...</td>\n",
       "      <td>...</td>\n",
       "      <td>...</td>\n",
       "    </tr>\n",
       "    <tr>\n",
       "      <th>113932</th>\n",
       "      <td>E6D9357655724827169606C</td>\n",
       "      <td>753087</td>\n",
       "      <td>2013-04-14 05:55:02.663000000</td>\n",
       "      <td>NaN</td>\n",
       "      <td>36</td>\n",
       "      <td>Current</td>\n",
       "      <td>NaN</td>\n",
       "      <td>0.22354</td>\n",
       "      <td>0.1864</td>\n",
       "      <td>0.1764</td>\n",
       "      <td>...</td>\n",
       "      <td>-75.58</td>\n",
       "      <td>0.0</td>\n",
       "      <td>0.0</td>\n",
       "      <td>0.0</td>\n",
       "      <td>0.0</td>\n",
       "      <td>1.0</td>\n",
       "      <td>0</td>\n",
       "      <td>0</td>\n",
       "      <td>0.0</td>\n",
       "      <td>1</td>\n",
       "    </tr>\n",
       "    <tr>\n",
       "      <th>113933</th>\n",
       "      <td>E6DB353036033497292EE43</td>\n",
       "      <td>537216</td>\n",
       "      <td>2011-11-03 20:42:55.333000000</td>\n",
       "      <td>NaN</td>\n",
       "      <td>36</td>\n",
       "      <td>FinalPaymentInProgress</td>\n",
       "      <td>NaN</td>\n",
       "      <td>0.13220</td>\n",
       "      <td>0.1110</td>\n",
       "      <td>0.1010</td>\n",
       "      <td>...</td>\n",
       "      <td>-30.05</td>\n",
       "      <td>0.0</td>\n",
       "      <td>0.0</td>\n",
       "      <td>0.0</td>\n",
       "      <td>0.0</td>\n",
       "      <td>1.0</td>\n",
       "      <td>0</td>\n",
       "      <td>0</td>\n",
       "      <td>0.0</td>\n",
       "      <td>22</td>\n",
       "    </tr>\n",
       "    <tr>\n",
       "      <th>113934</th>\n",
       "      <td>E6E13596170052029692BB1</td>\n",
       "      <td>1069178</td>\n",
       "      <td>2013-12-13 05:49:12.703000000</td>\n",
       "      <td>NaN</td>\n",
       "      <td>60</td>\n",
       "      <td>Current</td>\n",
       "      <td>NaN</td>\n",
       "      <td>0.23984</td>\n",
       "      <td>0.2150</td>\n",
       "      <td>0.2050</td>\n",
       "      <td>...</td>\n",
       "      <td>-16.91</td>\n",
       "      <td>0.0</td>\n",
       "      <td>0.0</td>\n",
       "      <td>0.0</td>\n",
       "      <td>0.0</td>\n",
       "      <td>1.0</td>\n",
       "      <td>0</td>\n",
       "      <td>0</td>\n",
       "      <td>0.0</td>\n",
       "      <td>119</td>\n",
       "    </tr>\n",
       "    <tr>\n",
       "      <th>113935</th>\n",
       "      <td>E6EB3531504622671970D9E</td>\n",
       "      <td>539056</td>\n",
       "      <td>2011-11-14 13:18:26.597000000</td>\n",
       "      <td>NaN</td>\n",
       "      <td>60</td>\n",
       "      <td>Completed</td>\n",
       "      <td>2013-08-13 00:00:00</td>\n",
       "      <td>0.28408</td>\n",
       "      <td>0.2605</td>\n",
       "      <td>0.2505</td>\n",
       "      <td>...</td>\n",
       "      <td>-235.05</td>\n",
       "      <td>0.0</td>\n",
       "      <td>0.0</td>\n",
       "      <td>0.0</td>\n",
       "      <td>0.0</td>\n",
       "      <td>1.0</td>\n",
       "      <td>0</td>\n",
       "      <td>0</td>\n",
       "      <td>0.0</td>\n",
       "      <td>274</td>\n",
       "    </tr>\n",
       "    <tr>\n",
       "      <th>113936</th>\n",
       "      <td>E6ED3600409833199F711B7</td>\n",
       "      <td>1140093</td>\n",
       "      <td>2014-01-15 09:27:37.657000000</td>\n",
       "      <td>NaN</td>\n",
       "      <td>36</td>\n",
       "      <td>Current</td>\n",
       "      <td>NaN</td>\n",
       "      <td>0.13189</td>\n",
       "      <td>0.1039</td>\n",
       "      <td>0.0939</td>\n",
       "      <td>...</td>\n",
       "      <td>-1.70</td>\n",
       "      <td>0.0</td>\n",
       "      <td>0.0</td>\n",
       "      <td>0.0</td>\n",
       "      <td>0.0</td>\n",
       "      <td>1.0</td>\n",
       "      <td>0</td>\n",
       "      <td>0</td>\n",
       "      <td>0.0</td>\n",
       "      <td>1</td>\n",
       "    </tr>\n",
       "  </tbody>\n",
       "</table>\n",
       "<p>113937 rows × 81 columns</p>\n",
       "</div>"
      ],
      "text/plain": [
       "                     ListingKey  ListingNumber            ListingCreationDate  \\\n",
       "0       1021339766868145413AB3B         193129  2007-08-26 19:09:29.263000000   \n",
       "1       10273602499503308B223C1        1209647  2014-02-27 08:28:07.900000000   \n",
       "2       0EE9337825851032864889A          81716  2007-01-05 15:00:47.090000000   \n",
       "3       0EF5356002482715299901A         658116  2012-10-22 11:02:35.010000000   \n",
       "4       0F023589499656230C5E3E2         909464  2013-09-14 18:38:39.097000000   \n",
       "...                         ...            ...                            ...   \n",
       "113932  E6D9357655724827169606C         753087  2013-04-14 05:55:02.663000000   \n",
       "113933  E6DB353036033497292EE43         537216  2011-11-03 20:42:55.333000000   \n",
       "113934  E6E13596170052029692BB1        1069178  2013-12-13 05:49:12.703000000   \n",
       "113935  E6EB3531504622671970D9E         539056  2011-11-14 13:18:26.597000000   \n",
       "113936  E6ED3600409833199F711B7        1140093  2014-01-15 09:27:37.657000000   \n",
       "\n",
       "       CreditGrade  Term              LoanStatus           ClosedDate  \\\n",
       "0                C    36               Completed  2009-08-14 00:00:00   \n",
       "1              NaN    36                 Current                  NaN   \n",
       "2               HR    36               Completed  2009-12-17 00:00:00   \n",
       "3              NaN    36                 Current                  NaN   \n",
       "4              NaN    36                 Current                  NaN   \n",
       "...            ...   ...                     ...                  ...   \n",
       "113932         NaN    36                 Current                  NaN   \n",
       "113933         NaN    36  FinalPaymentInProgress                  NaN   \n",
       "113934         NaN    60                 Current                  NaN   \n",
       "113935         NaN    60               Completed  2013-08-13 00:00:00   \n",
       "113936         NaN    36                 Current                  NaN   \n",
       "\n",
       "        BorrowerAPR  BorrowerRate  LenderYield  ...  LP_ServiceFees  \\\n",
       "0           0.16516        0.1580       0.1380  ...         -133.18   \n",
       "1           0.12016        0.0920       0.0820  ...            0.00   \n",
       "2           0.28269        0.2750       0.2400  ...          -24.20   \n",
       "3           0.12528        0.0974       0.0874  ...         -108.01   \n",
       "4           0.24614        0.2085       0.1985  ...          -60.27   \n",
       "...             ...           ...          ...  ...             ...   \n",
       "113932      0.22354        0.1864       0.1764  ...          -75.58   \n",
       "113933      0.13220        0.1110       0.1010  ...          -30.05   \n",
       "113934      0.23984        0.2150       0.2050  ...          -16.91   \n",
       "113935      0.28408        0.2605       0.2505  ...         -235.05   \n",
       "113936      0.13189        0.1039       0.0939  ...           -1.70   \n",
       "\n",
       "        LP_CollectionFees  LP_GrossPrincipalLoss  LP_NetPrincipalLoss  \\\n",
       "0                     0.0                    0.0                  0.0   \n",
       "1                     0.0                    0.0                  0.0   \n",
       "2                     0.0                    0.0                  0.0   \n",
       "3                     0.0                    0.0                  0.0   \n",
       "4                     0.0                    0.0                  0.0   \n",
       "...                   ...                    ...                  ...   \n",
       "113932                0.0                    0.0                  0.0   \n",
       "113933                0.0                    0.0                  0.0   \n",
       "113934                0.0                    0.0                  0.0   \n",
       "113935                0.0                    0.0                  0.0   \n",
       "113936                0.0                    0.0                  0.0   \n",
       "\n",
       "       LP_NonPrincipalRecoverypayments  PercentFunded  Recommendations  \\\n",
       "0                                  0.0            1.0                0   \n",
       "1                                  0.0            1.0                0   \n",
       "2                                  0.0            1.0                0   \n",
       "3                                  0.0            1.0                0   \n",
       "4                                  0.0            1.0                0   \n",
       "...                                ...            ...              ...   \n",
       "113932                             0.0            1.0                0   \n",
       "113933                             0.0            1.0                0   \n",
       "113934                             0.0            1.0                0   \n",
       "113935                             0.0            1.0                0   \n",
       "113936                             0.0            1.0                0   \n",
       "\n",
       "       InvestmentFromFriendsCount InvestmentFromFriendsAmount Investors  \n",
       "0                               0                         0.0       258  \n",
       "1                               0                         0.0         1  \n",
       "2                               0                         0.0        41  \n",
       "3                               0                         0.0       158  \n",
       "4                               0                         0.0        20  \n",
       "...                           ...                         ...       ...  \n",
       "113932                          0                         0.0         1  \n",
       "113933                          0                         0.0        22  \n",
       "113934                          0                         0.0       119  \n",
       "113935                          0                         0.0       274  \n",
       "113936                          0                         0.0         1  \n",
       "\n",
       "[113937 rows x 81 columns]"
      ]
     },
     "execution_count": 3,
     "metadata": {},
     "output_type": "execute_result"
    }
   ],
   "source": [
    "#visually assess the loan_data pandas dataframe\n",
    "loan_data"
   ]
  },
  {
   "cell_type": "markdown",
   "metadata": {},
   "source": [
    "> **[Column Names (characteristics) and their Significance](https://docs.google.com/spreadsheets/d/1gDyi_L4UvIrLTEC6Wri5nbaMmkGmLQBk-Yx3z0XDEtI/edit#gid=0)**"
   ]
  },
  {
   "cell_type": "markdown",
   "metadata": {},
   "source": [
    "ListingKey: Unique key for each listing, same value as the 'key' used in the listing object in the API.\n",
    "\n",
    "ListingNumber: The number that uniquely identifies the listing to the public as displayed on the website.\n",
    "\n",
    "ListingCreationDate: The date the listing was created.\n",
    "\n",
    "CreditGrade: The Credit rating that was assigned at the time the listing went live. Applicable for listings pre-2009 period and will only be populated for those listings.\n",
    "\n",
    "Term: The length of the loan expressed in months.\n",
    "\n",
    "LoanStatus: The current status of the loan: Cancelled,  Chargedoff, Completed, Current, Defaulted, FinalPaymentInProgress, PastDue. The PastDue status will be accompanied by a delinquency bucket.\n",
    "\n",
    "ClosedDate: Closed date is applicable for Cancelled, Completed, Chargedoff and Defaulted loan statuses.\n",
    "\n",
    "BorrowerAPR: The Borrower's Annual Percentage Rate (APR) for the loan.\n",
    "\n",
    "BorrowerRate: The Borrower's interest rate for this loan. \n",
    "\n",
    "LenderYield: The Lender yield on the loan. Lender yield is equal to the interest rate on the loan less the servicing fee.\n",
    "\n",
    "EstimatedEffectiveYield\tEffective yield is equal to the borrower interest rate (i) minus the servicing fee rate, (ii) minus estimated uncollected interest on charge-offs, (iii) plus estimated collected late fees.  Applicable for loans originated after July 2009.\n",
    "\n",
    "EstimatedLoss: Estimated loss is the estimated principal loss on charge-offs. Applicable for loans originated after July 2009.\n",
    "\n",
    "EstimatedReturn: The estimated return assigned to the listing at the time it was created. Estimated return is the difference between the Estimated Effective Yield and the Estimated Loss Rate. Applicable for loans originated after July 2009.\n",
    "\n",
    "ProsperRating (numeric): The  Prosper Rating assigned at the time the listing was created: 0 - N/A, 1 - HR, 2 - E, 3 - D, 4 - C, 5 - B, 6 - A, 7 - AA.  Applicable for loans originated after July 2009.\n",
    "\n",
    "ProsperRating (Alpha): The Prosper Rating assigned at the time the listing was created between AA - HR.  Applicable for loans originated after July 2009.\n",
    "\n",
    "ProsperScore: A custom risk score built using historical Prosper data. The score ranges from 1-10, with 10 being the best, or lowest risk score.  Applicable for loans originated after July 2009.\n",
    "\n",
    "ListingCategory: The category of the listing that the borrower selected when posting their listing: 0 - Not Available, 1 - Debt Consolidation, 2 - Home Improvement, 3 - Business, 4 - Personal Loan, 5 - Student Use, 6 - Auto, 7- Other, 8 - Baby&Adoption, 9 - Boat, 10 - Cosmetic Procedure, 11 - Engagement Ring, 12 - Green Loans, 13 - Household Expenses, 14 - Large Purchases, 15 - Medical/Dental, 16 - Motorcycle, 17 - RV, 18 - Taxes, 19 - Vacation, 20 - Wedding Loans\n",
    "\n",
    "BorrowerState: The two letter abbreviation of the state of the address of the borrower at the time the Listing was created.\n",
    "\n",
    "Occupation: The Occupation selected by the Borrower at the time they created the listing.\n",
    "\n",
    "EmploymentStatus: The employment status of the borrower at the time they posted the listing.\n",
    "\n",
    "EmploymentStatusDuration: The length in months of the employment status at the time the listing was created.\n",
    "\n",
    "IsBorrowerHomeowner: A Borrower will be classified as a homowner if they have a mortgage on their credit profile or provide documentation confirming they are a homeowner.\n",
    "\n",
    "CurrentlyInGroup: Specifies whether or not the Borrower was in a group at the time the listing was created.\n",
    "\n",
    "GroupKey: The Key of the group in which the Borrower is a member of. Value will be null if the borrower does not have a group affiliation.\n",
    "\n",
    "DateCreditPulled: The date the credit profile was pulled.\n",
    "\n",
    "CreditScoreRangeLower: The lower value representing the range of the borrower's credit score as provided by a consumer credit rating agency.\n",
    "\n",
    "CreditScoreRangeUpper: The upper value representing the range of the borrower's credit score as provided by a consumer credit rating agency. \n",
    "\n",
    "FirstRecordedCreditLine: The date the first credit line was opened.\n",
    "\n",
    "CurrentCreditLines: Number of current credit lines at the time the credit profile was pulled.\n",
    "\n",
    "OpenCreditLines: Number of open credit lines at the time the credit profile was pulled.\n",
    "\n",
    "TotalCreditLinespast7years: Number of credit lines in the past seven years at the time the credit profile was pulled.\n",
    "\n",
    "OpenRevolvingAccounts: Number of open revolving accounts at the time the credit profile was pulled.\n",
    "\n",
    "OpenRevolvingMonthlyPayment: Monthly payment on revolving accounts at the time the credit profile was pulled.\n",
    "\n",
    "InquiriesLast6Months: Number of inquiries in the past six months at the time the credit profile was pulled.\n",
    "\n",
    "TotalInquiries: Total number of inquiries at the time the credit profile was pulled.\n",
    "\n",
    "CurrentDelinquencies: Number of accounts delinquent at the time the credit profile was pulled.\n",
    "\n",
    "AmountDelinquent: Dollars delinquent at the time the credit profile was pulled.\n",
    "\n",
    "DelinquenciesLast7Years: Number of delinquencies in the past 7 years at the time the credit profile was pulled.\n",
    "\n",
    "PublicRecordsLast10Years: Number of public records in the past 10 years at the time the credit profile was pulled.\n",
    "\n",
    "PublicRecordsLast12Months: Number of public records in the past 12 months at the time the credit profile was pulled.\n",
    "\n",
    "RevolvingCreditBalance: Dollars of revolving credit at the time the credit profile was pulled.\n",
    "\n",
    "BankcardUtilization: The percentage of available revolving credit that is utilized at the time the credit profile was pulled.\n",
    "\n",
    "AvailableBankcardCredit: The total available credit via bank card at the time the credit profile was pulled.\n",
    "\n",
    "TotalTrades: Number of trade lines ever opened at the time the credit profile was pulled.\n",
    "\n",
    "TradesNeverDelinquent: Number of trades that have never been delinquent at the time the credit profile was pulled.\n",
    "\n",
    "TradesOpenedLast6Months: Number of trades opened in the last 6 months at the time the credit profile was pulled.\n",
    "\n",
    "DebtToIncomeRatio: The debt to income ratio of the borrower at the time the credit profile was pulled. This value is Null if the debt to income ratio is not available. This value is capped at 10.01 (any debt to income ratio larger than 1000% will be returned as 1001%).\n",
    "\n",
    "IncomeRange: The income range of the borrower at the time the listing was created.\n",
    "\n",
    "IncomeVerifiable: The borrower indicated they have the required documentation to support their income.\n",
    "\n",
    "StatedMonthlyIncome: The monthly income the borrower stated at the time the listing was created.\n",
    "\n",
    "LoanKey: Unique key for each loan. This is the same key that is used in the API.\n",
    "\n",
    "TotalProsperLoans: Number of Prosper loans the borrower at the time they created this listing. This value will be null if the borrower had no prior loans.\n",
    "\n",
    "TotalProsperPaymentsBilled: Number of on time payments the borrower made on Prosper loans at the time they created this listing. This value will be null if the borrower had no prior loans.\n",
    "\n",
    "OnTimeProsperPayments: Number of on time payments the borrower had made on Prosper loans at the time they created this listing. This value will be null if the borrower has no prior loans.\n",
    "\n",
    "ProsperPaymentsLessThanOneMonthLate: Number of payments the borrower made on Prosper loans that were less than one month late at the time they created this listing. This value will be null if the borrower had no prior loans.\n",
    "\n",
    "ProsperPaymentsOneMonthPlusLate: Number of payments the borrower made on Prosper loans that were greater than one month late at the time they created this listing. This value will be null if the borrower had no prior loans.\n",
    "\n",
    "ProsperPrincipalBorrowed: Total principal borrowed on Prosper loans at the time the listing was created. This value will be null if the borrower had no prior loans.\n",
    "\n",
    "ProsperPrincipalOutstanding: Principal outstanding on Prosper loans at the time the listing was created. This value will be null if the borrower had no prior loans.\n",
    "\n",
    "ScorexChangeAtTimeOfListing: Borrower's credit score change at the time the credit profile was pulled. This will be the change relative to the borrower's last Prosper loan. This value will be null if the borrower had no prior loans.\n",
    "\n",
    "LoanCurrentDaysDelinquent: The number of days delinquent. \n",
    "\n",
    "LoanFirstDefaultedCycleNumber: The cycle the loan was charged off. If the loan has not charged off the value will be null. \n",
    "LoanMonthsSinceOrigination\tNumber of months since the loan originated.\n",
    "\n",
    "LoanNumber: Unique numeric value associated with the loan.\n",
    "\n",
    "LoanOriginalAmount: The origination amount of the loan.\n",
    "\n",
    "LoanOriginationDate: The date the loan was originated.\n",
    "\n",
    "LoanOriginationQuarter: The quarter in which the loan was originated.\n",
    "\n",
    "MemberKey: The unique key that is associated with the borrower. This is the same identifier that is used in the API member object. \n",
    "\n",
    "MonthlyLoanPayment: The scheduled monthly loan payment.\n",
    "\n",
    "LP_CustomerPayments: Pre charge-off cumulative gross payments made by the borrower on the loan. If the loan has charged off, this value will exclude any recoveries.\n",
    "\n",
    "LP_CustomerPrincipalPayments: Pre charge-off cumulative principal payments made by the borrower on the loan. If the loan has charged off, this value will exclude any recoveries.\n",
    "\n",
    "LP_InterestandFees: Pre charge-off cumulative interest and fees paid by the borrower. If the loan has charged off, this value will exclude any recoveries.\n",
    "\n",
    "LP_ServiceFees: Cumulative service fees paid by the investors who have invested in the loan. \n",
    "\n",
    "LP_CollectionFees: Cumulative collection fees paid by the investors who have invested in the loan.\n",
    "\n",
    "LP_GrossPrincipalLoss: The gross charged off amount of the loan.\n",
    "\n",
    "LP_NetPrincipalLoss: The principal that remains uncollected after any recoveries.\n",
    "\n",
    "LP_NonPrincipalRecoverypayments: The interest and fee component of any recovery payments. The current payment policy applies payments in the following order: Fees, interest, principal.\n",
    "\n",
    "PercentFunded: Percent the listing was funded.\n",
    "\n",
    "Recommendations: Number of recommendations the borrower had at the time the listing was created.\n",
    "\n",
    "InvestmentFromFriendsCount: Number of friends that made an investment in the loan.\n",
    "\n",
    "InvestmentFromFriendsAmount: Dollar amount of investments that were made by friends.\n",
    "\n",
    "Investors: The number of investors that funded the loan."
   ]
  },
  {
   "cell_type": "code",
   "execution_count": 4,
   "metadata": {},
   "outputs": [
    {
     "data": {
      "text/plain": [
       "(113937, 81)"
      ]
     },
     "execution_count": 4,
     "metadata": {},
     "output_type": "execute_result"
    }
   ],
   "source": [
    "#Get the number of rows and columns in loan_data dataframe\n",
    "loan_data.shape"
   ]
  },
  {
   "cell_type": "code",
   "execution_count": 5,
   "metadata": {},
   "outputs": [
    {
     "name": "stdout",
     "output_type": "stream",
     "text": [
      "<class 'pandas.core.frame.DataFrame'>\n",
      "RangeIndex: 113937 entries, 0 to 113936\n",
      "Data columns (total 81 columns):\n",
      " #   Column                               Non-Null Count   Dtype  \n",
      "---  ------                               --------------   -----  \n",
      " 0   ListingKey                           113937 non-null  object \n",
      " 1   ListingNumber                        113937 non-null  int64  \n",
      " 2   ListingCreationDate                  113937 non-null  object \n",
      " 3   CreditGrade                          28953 non-null   object \n",
      " 4   Term                                 113937 non-null  int64  \n",
      " 5   LoanStatus                           113937 non-null  object \n",
      " 6   ClosedDate                           55089 non-null   object \n",
      " 7   BorrowerAPR                          113912 non-null  float64\n",
      " 8   BorrowerRate                         113937 non-null  float64\n",
      " 9   LenderYield                          113937 non-null  float64\n",
      " 10  EstimatedEffectiveYield              84853 non-null   float64\n",
      " 11  EstimatedLoss                        84853 non-null   float64\n",
      " 12  EstimatedReturn                      84853 non-null   float64\n",
      " 13  ProsperRating (numeric)              84853 non-null   float64\n",
      " 14  ProsperRating (Alpha)                84853 non-null   object \n",
      " 15  ProsperScore                         84853 non-null   float64\n",
      " 16  ListingCategory (numeric)            113937 non-null  int64  \n",
      " 17  BorrowerState                        108422 non-null  object \n",
      " 18  Occupation                           110349 non-null  object \n",
      " 19  EmploymentStatus                     111682 non-null  object \n",
      " 20  EmploymentStatusDuration             106312 non-null  float64\n",
      " 21  IsBorrowerHomeowner                  113937 non-null  bool   \n",
      " 22  CurrentlyInGroup                     113937 non-null  bool   \n",
      " 23  GroupKey                             13341 non-null   object \n",
      " 24  DateCreditPulled                     113937 non-null  object \n",
      " 25  CreditScoreRangeLower                113346 non-null  float64\n",
      " 26  CreditScoreRangeUpper                113346 non-null  float64\n",
      " 27  FirstRecordedCreditLine              113240 non-null  object \n",
      " 28  CurrentCreditLines                   106333 non-null  float64\n",
      " 29  OpenCreditLines                      106333 non-null  float64\n",
      " 30  TotalCreditLinespast7years           113240 non-null  float64\n",
      " 31  OpenRevolvingAccounts                113937 non-null  int64  \n",
      " 32  OpenRevolvingMonthlyPayment          113937 non-null  float64\n",
      " 33  InquiriesLast6Months                 113240 non-null  float64\n",
      " 34  TotalInquiries                       112778 non-null  float64\n",
      " 35  CurrentDelinquencies                 113240 non-null  float64\n",
      " 36  AmountDelinquent                     106315 non-null  float64\n",
      " 37  DelinquenciesLast7Years              112947 non-null  float64\n",
      " 38  PublicRecordsLast10Years             113240 non-null  float64\n",
      " 39  PublicRecordsLast12Months            106333 non-null  float64\n",
      " 40  RevolvingCreditBalance               106333 non-null  float64\n",
      " 41  BankcardUtilization                  106333 non-null  float64\n",
      " 42  AvailableBankcardCredit              106393 non-null  float64\n",
      " 43  TotalTrades                          106393 non-null  float64\n",
      " 44  TradesNeverDelinquent (percentage)   106393 non-null  float64\n",
      " 45  TradesOpenedLast6Months              106393 non-null  float64\n",
      " 46  DebtToIncomeRatio                    105383 non-null  float64\n",
      " 47  IncomeRange                          113937 non-null  object \n",
      " 48  IncomeVerifiable                     113937 non-null  bool   \n",
      " 49  StatedMonthlyIncome                  113937 non-null  float64\n",
      " 50  LoanKey                              113937 non-null  object \n",
      " 51  TotalProsperLoans                    22085 non-null   float64\n",
      " 52  TotalProsperPaymentsBilled           22085 non-null   float64\n",
      " 53  OnTimeProsperPayments                22085 non-null   float64\n",
      " 54  ProsperPaymentsLessThanOneMonthLate  22085 non-null   float64\n",
      " 55  ProsperPaymentsOneMonthPlusLate      22085 non-null   float64\n",
      " 56  ProsperPrincipalBorrowed             22085 non-null   float64\n",
      " 57  ProsperPrincipalOutstanding          22085 non-null   float64\n",
      " 58  ScorexChangeAtTimeOfListing          18928 non-null   float64\n",
      " 59  LoanCurrentDaysDelinquent            113937 non-null  int64  \n",
      " 60  LoanFirstDefaultedCycleNumber        16952 non-null   float64\n",
      " 61  LoanMonthsSinceOrigination           113937 non-null  int64  \n",
      " 62  LoanNumber                           113937 non-null  int64  \n",
      " 63  LoanOriginalAmount                   113937 non-null  int64  \n",
      " 64  LoanOriginationDate                  113937 non-null  object \n",
      " 65  LoanOriginationQuarter               113937 non-null  object \n",
      " 66  MemberKey                            113937 non-null  object \n",
      " 67  MonthlyLoanPayment                   113937 non-null  float64\n",
      " 68  LP_CustomerPayments                  113937 non-null  float64\n",
      " 69  LP_CustomerPrincipalPayments         113937 non-null  float64\n",
      " 70  LP_InterestandFees                   113937 non-null  float64\n",
      " 71  LP_ServiceFees                       113937 non-null  float64\n",
      " 72  LP_CollectionFees                    113937 non-null  float64\n",
      " 73  LP_GrossPrincipalLoss                113937 non-null  float64\n",
      " 74  LP_NetPrincipalLoss                  113937 non-null  float64\n",
      " 75  LP_NonPrincipalRecoverypayments      113937 non-null  float64\n",
      " 76  PercentFunded                        113937 non-null  float64\n",
      " 77  Recommendations                      113937 non-null  int64  \n",
      " 78  InvestmentFromFriendsCount           113937 non-null  int64  \n",
      " 79  InvestmentFromFriendsAmount          113937 non-null  float64\n",
      " 80  Investors                            113937 non-null  int64  \n",
      "dtypes: bool(3), float64(50), int64(11), object(17)\n",
      "memory usage: 68.1+ MB\n"
     ]
    }
   ],
   "source": [
    "#View a concise summary of the loan_data dataframe including the number of non-null values in each column\n",
    "loan_data.info()"
   ]
  },
  {
   "cell_type": "code",
   "execution_count": 6,
   "metadata": {},
   "outputs": [
    {
     "data": {
      "text/html": [
       "<div>\n",
       "<style scoped>\n",
       "    .dataframe tbody tr th:only-of-type {\n",
       "        vertical-align: middle;\n",
       "    }\n",
       "\n",
       "    .dataframe tbody tr th {\n",
       "        vertical-align: top;\n",
       "    }\n",
       "\n",
       "    .dataframe thead th {\n",
       "        text-align: right;\n",
       "    }\n",
       "</style>\n",
       "<table border=\"1\" class=\"dataframe\">\n",
       "  <thead>\n",
       "    <tr style=\"text-align: right;\">\n",
       "      <th></th>\n",
       "      <th>ListingNumber</th>\n",
       "      <th>Term</th>\n",
       "      <th>BorrowerAPR</th>\n",
       "      <th>BorrowerRate</th>\n",
       "      <th>LenderYield</th>\n",
       "      <th>EstimatedEffectiveYield</th>\n",
       "      <th>EstimatedLoss</th>\n",
       "      <th>EstimatedReturn</th>\n",
       "      <th>ProsperRating (numeric)</th>\n",
       "      <th>ProsperScore</th>\n",
       "      <th>...</th>\n",
       "      <th>LP_ServiceFees</th>\n",
       "      <th>LP_CollectionFees</th>\n",
       "      <th>LP_GrossPrincipalLoss</th>\n",
       "      <th>LP_NetPrincipalLoss</th>\n",
       "      <th>LP_NonPrincipalRecoverypayments</th>\n",
       "      <th>PercentFunded</th>\n",
       "      <th>Recommendations</th>\n",
       "      <th>InvestmentFromFriendsCount</th>\n",
       "      <th>InvestmentFromFriendsAmount</th>\n",
       "      <th>Investors</th>\n",
       "    </tr>\n",
       "  </thead>\n",
       "  <tbody>\n",
       "    <tr>\n",
       "      <th>count</th>\n",
       "      <td>1.139370e+05</td>\n",
       "      <td>113937.000000</td>\n",
       "      <td>113912.000000</td>\n",
       "      <td>113937.000000</td>\n",
       "      <td>113937.000000</td>\n",
       "      <td>84853.000000</td>\n",
       "      <td>84853.000000</td>\n",
       "      <td>84853.000000</td>\n",
       "      <td>84853.000000</td>\n",
       "      <td>84853.000000</td>\n",
       "      <td>...</td>\n",
       "      <td>113937.000000</td>\n",
       "      <td>113937.000000</td>\n",
       "      <td>113937.000000</td>\n",
       "      <td>113937.000000</td>\n",
       "      <td>113937.000000</td>\n",
       "      <td>113937.000000</td>\n",
       "      <td>113937.000000</td>\n",
       "      <td>113937.000000</td>\n",
       "      <td>113937.000000</td>\n",
       "      <td>113937.000000</td>\n",
       "    </tr>\n",
       "    <tr>\n",
       "      <th>mean</th>\n",
       "      <td>6.278857e+05</td>\n",
       "      <td>40.830248</td>\n",
       "      <td>0.218828</td>\n",
       "      <td>0.192764</td>\n",
       "      <td>0.182701</td>\n",
       "      <td>0.168661</td>\n",
       "      <td>0.080306</td>\n",
       "      <td>0.096068</td>\n",
       "      <td>4.072243</td>\n",
       "      <td>5.950067</td>\n",
       "      <td>...</td>\n",
       "      <td>-54.725641</td>\n",
       "      <td>-14.242698</td>\n",
       "      <td>700.446342</td>\n",
       "      <td>681.420499</td>\n",
       "      <td>25.142686</td>\n",
       "      <td>0.998584</td>\n",
       "      <td>0.048027</td>\n",
       "      <td>0.023460</td>\n",
       "      <td>16.550751</td>\n",
       "      <td>80.475228</td>\n",
       "    </tr>\n",
       "    <tr>\n",
       "      <th>std</th>\n",
       "      <td>3.280762e+05</td>\n",
       "      <td>10.436212</td>\n",
       "      <td>0.080364</td>\n",
       "      <td>0.074818</td>\n",
       "      <td>0.074516</td>\n",
       "      <td>0.068467</td>\n",
       "      <td>0.046764</td>\n",
       "      <td>0.030403</td>\n",
       "      <td>1.673227</td>\n",
       "      <td>2.376501</td>\n",
       "      <td>...</td>\n",
       "      <td>60.675425</td>\n",
       "      <td>109.232758</td>\n",
       "      <td>2388.513831</td>\n",
       "      <td>2357.167068</td>\n",
       "      <td>275.657937</td>\n",
       "      <td>0.017919</td>\n",
       "      <td>0.332353</td>\n",
       "      <td>0.232412</td>\n",
       "      <td>294.545422</td>\n",
       "      <td>103.239020</td>\n",
       "    </tr>\n",
       "    <tr>\n",
       "      <th>min</th>\n",
       "      <td>4.000000e+00</td>\n",
       "      <td>12.000000</td>\n",
       "      <td>0.006530</td>\n",
       "      <td>0.000000</td>\n",
       "      <td>-0.010000</td>\n",
       "      <td>-0.182700</td>\n",
       "      <td>0.004900</td>\n",
       "      <td>-0.182700</td>\n",
       "      <td>1.000000</td>\n",
       "      <td>1.000000</td>\n",
       "      <td>...</td>\n",
       "      <td>-664.870000</td>\n",
       "      <td>-9274.750000</td>\n",
       "      <td>-94.200000</td>\n",
       "      <td>-954.550000</td>\n",
       "      <td>0.000000</td>\n",
       "      <td>0.700000</td>\n",
       "      <td>0.000000</td>\n",
       "      <td>0.000000</td>\n",
       "      <td>0.000000</td>\n",
       "      <td>1.000000</td>\n",
       "    </tr>\n",
       "    <tr>\n",
       "      <th>25%</th>\n",
       "      <td>4.009190e+05</td>\n",
       "      <td>36.000000</td>\n",
       "      <td>0.156290</td>\n",
       "      <td>0.134000</td>\n",
       "      <td>0.124200</td>\n",
       "      <td>0.115670</td>\n",
       "      <td>0.042400</td>\n",
       "      <td>0.074080</td>\n",
       "      <td>3.000000</td>\n",
       "      <td>4.000000</td>\n",
       "      <td>...</td>\n",
       "      <td>-73.180000</td>\n",
       "      <td>0.000000</td>\n",
       "      <td>0.000000</td>\n",
       "      <td>0.000000</td>\n",
       "      <td>0.000000</td>\n",
       "      <td>1.000000</td>\n",
       "      <td>0.000000</td>\n",
       "      <td>0.000000</td>\n",
       "      <td>0.000000</td>\n",
       "      <td>2.000000</td>\n",
       "    </tr>\n",
       "    <tr>\n",
       "      <th>50%</th>\n",
       "      <td>6.005540e+05</td>\n",
       "      <td>36.000000</td>\n",
       "      <td>0.209760</td>\n",
       "      <td>0.184000</td>\n",
       "      <td>0.173000</td>\n",
       "      <td>0.161500</td>\n",
       "      <td>0.072400</td>\n",
       "      <td>0.091700</td>\n",
       "      <td>4.000000</td>\n",
       "      <td>6.000000</td>\n",
       "      <td>...</td>\n",
       "      <td>-34.440000</td>\n",
       "      <td>0.000000</td>\n",
       "      <td>0.000000</td>\n",
       "      <td>0.000000</td>\n",
       "      <td>0.000000</td>\n",
       "      <td>1.000000</td>\n",
       "      <td>0.000000</td>\n",
       "      <td>0.000000</td>\n",
       "      <td>0.000000</td>\n",
       "      <td>44.000000</td>\n",
       "    </tr>\n",
       "    <tr>\n",
       "      <th>75%</th>\n",
       "      <td>8.926340e+05</td>\n",
       "      <td>36.000000</td>\n",
       "      <td>0.283810</td>\n",
       "      <td>0.250000</td>\n",
       "      <td>0.240000</td>\n",
       "      <td>0.224300</td>\n",
       "      <td>0.112000</td>\n",
       "      <td>0.116600</td>\n",
       "      <td>5.000000</td>\n",
       "      <td>8.000000</td>\n",
       "      <td>...</td>\n",
       "      <td>-13.920000</td>\n",
       "      <td>0.000000</td>\n",
       "      <td>0.000000</td>\n",
       "      <td>0.000000</td>\n",
       "      <td>0.000000</td>\n",
       "      <td>1.000000</td>\n",
       "      <td>0.000000</td>\n",
       "      <td>0.000000</td>\n",
       "      <td>0.000000</td>\n",
       "      <td>115.000000</td>\n",
       "    </tr>\n",
       "    <tr>\n",
       "      <th>max</th>\n",
       "      <td>1.255725e+06</td>\n",
       "      <td>60.000000</td>\n",
       "      <td>0.512290</td>\n",
       "      <td>0.497500</td>\n",
       "      <td>0.492500</td>\n",
       "      <td>0.319900</td>\n",
       "      <td>0.366000</td>\n",
       "      <td>0.283700</td>\n",
       "      <td>7.000000</td>\n",
       "      <td>11.000000</td>\n",
       "      <td>...</td>\n",
       "      <td>32.060000</td>\n",
       "      <td>0.000000</td>\n",
       "      <td>25000.000000</td>\n",
       "      <td>25000.000000</td>\n",
       "      <td>21117.900000</td>\n",
       "      <td>1.012500</td>\n",
       "      <td>39.000000</td>\n",
       "      <td>33.000000</td>\n",
       "      <td>25000.000000</td>\n",
       "      <td>1189.000000</td>\n",
       "    </tr>\n",
       "  </tbody>\n",
       "</table>\n",
       "<p>8 rows × 61 columns</p>\n",
       "</div>"
      ],
      "text/plain": [
       "       ListingNumber           Term    BorrowerAPR   BorrowerRate  \\\n",
       "count   1.139370e+05  113937.000000  113912.000000  113937.000000   \n",
       "mean    6.278857e+05      40.830248       0.218828       0.192764   \n",
       "std     3.280762e+05      10.436212       0.080364       0.074818   \n",
       "min     4.000000e+00      12.000000       0.006530       0.000000   \n",
       "25%     4.009190e+05      36.000000       0.156290       0.134000   \n",
       "50%     6.005540e+05      36.000000       0.209760       0.184000   \n",
       "75%     8.926340e+05      36.000000       0.283810       0.250000   \n",
       "max     1.255725e+06      60.000000       0.512290       0.497500   \n",
       "\n",
       "         LenderYield  EstimatedEffectiveYield  EstimatedLoss  EstimatedReturn  \\\n",
       "count  113937.000000             84853.000000   84853.000000     84853.000000   \n",
       "mean        0.182701                 0.168661       0.080306         0.096068   \n",
       "std         0.074516                 0.068467       0.046764         0.030403   \n",
       "min        -0.010000                -0.182700       0.004900        -0.182700   \n",
       "25%         0.124200                 0.115670       0.042400         0.074080   \n",
       "50%         0.173000                 0.161500       0.072400         0.091700   \n",
       "75%         0.240000                 0.224300       0.112000         0.116600   \n",
       "max         0.492500                 0.319900       0.366000         0.283700   \n",
       "\n",
       "       ProsperRating (numeric)  ProsperScore  ...  LP_ServiceFees  \\\n",
       "count             84853.000000  84853.000000  ...   113937.000000   \n",
       "mean                  4.072243      5.950067  ...      -54.725641   \n",
       "std                   1.673227      2.376501  ...       60.675425   \n",
       "min                   1.000000      1.000000  ...     -664.870000   \n",
       "25%                   3.000000      4.000000  ...      -73.180000   \n",
       "50%                   4.000000      6.000000  ...      -34.440000   \n",
       "75%                   5.000000      8.000000  ...      -13.920000   \n",
       "max                   7.000000     11.000000  ...       32.060000   \n",
       "\n",
       "       LP_CollectionFees  LP_GrossPrincipalLoss  LP_NetPrincipalLoss  \\\n",
       "count      113937.000000          113937.000000        113937.000000   \n",
       "mean          -14.242698             700.446342           681.420499   \n",
       "std           109.232758            2388.513831          2357.167068   \n",
       "min         -9274.750000             -94.200000          -954.550000   \n",
       "25%             0.000000               0.000000             0.000000   \n",
       "50%             0.000000               0.000000             0.000000   \n",
       "75%             0.000000               0.000000             0.000000   \n",
       "max             0.000000           25000.000000         25000.000000   \n",
       "\n",
       "       LP_NonPrincipalRecoverypayments  PercentFunded  Recommendations  \\\n",
       "count                    113937.000000  113937.000000    113937.000000   \n",
       "mean                         25.142686       0.998584         0.048027   \n",
       "std                         275.657937       0.017919         0.332353   \n",
       "min                           0.000000       0.700000         0.000000   \n",
       "25%                           0.000000       1.000000         0.000000   \n",
       "50%                           0.000000       1.000000         0.000000   \n",
       "75%                           0.000000       1.000000         0.000000   \n",
       "max                       21117.900000       1.012500        39.000000   \n",
       "\n",
       "       InvestmentFromFriendsCount  InvestmentFromFriendsAmount      Investors  \n",
       "count               113937.000000                113937.000000  113937.000000  \n",
       "mean                     0.023460                    16.550751      80.475228  \n",
       "std                      0.232412                   294.545422     103.239020  \n",
       "min                      0.000000                     0.000000       1.000000  \n",
       "25%                      0.000000                     0.000000       2.000000  \n",
       "50%                      0.000000                     0.000000      44.000000  \n",
       "75%                      0.000000                     0.000000     115.000000  \n",
       "max                     33.000000                 25000.000000    1189.000000  \n",
       "\n",
       "[8 rows x 61 columns]"
      ]
     },
     "execution_count": 6,
     "metadata": {},
     "output_type": "execute_result"
    }
   ],
   "source": [
    "#Get useful descriptive statistics for each column of the loan_data dataframe\n",
    "loan_data.describe()"
   ]
  },
  {
   "cell_type": "markdown",
   "metadata": {},
   "source": [
    "### What is the structure of your dataset?\n",
    "\n",
    "> The propser loan dataset contains 113937 loans with 81 variables (columns) on each loan.\n",
    "\n",
    "### What is/are the main feature(s) of interest in your dataset?\n",
    "\n",
    "> The main features of interest in the prosper loan dataset are the ones giving insight into the borrower and their loan cycle (from origination till complete repayment).\n",
    "\n",
    ">**Features related to the Borrower**\n",
    ">1. BorrowerAPR: The Borrower's Annual Percentage Rate (APR) for the loan.\n",
    ">2. BorrowerRate: The Borrower's interest rate for this loan.\n",
    "\n",
    ">**Features related to the Loan disbursed to the borrower**\n",
    ">1. LoanOriginalAmount: The origination amount of the loan.\n",
    ">2. LoanOriginationDate: The date the loan was originated.\n",
    ">3. Term: The length of the loan expressed in months.\n",
    "\n",
    "### What features in the dataset do you think will help support your investigation into your feature(s) of interest?\n",
    "\n",
    "> The following important features will support my investigation in the propser loans dataset\n",
    "\n",
    "**Borrower's features**\n",
    "1. ListingCategory (numeric): The category of the listing that the borrower selected when posting their listing: 0 - Not Available, 1 - Debt Consolidation, 2 - Home Improvement, 3 - Business, 4 - Personal Loan, 5 - Student Use, 6 - Auto, 7- Other, 8 - Baby&Adoption, 9 - Boat, 10 - Cosmetic Procedure, 11 - Engagement Ring, 12 - Green Loans, 13 - Household Expenses, 14 - Large Purchases, 15 - Medical/Dental, 16 - Motorcycle, 17 - RV, 18 - Taxes, 19 - Vacation, 20 - Wedding Loans\n",
    "\n",
    "2. BorrowerState: The two letter abbreviation of the state of the address of the borrower at the time the Listing was created.\n",
    "\n",
    "3. Occupation: The Occupation selected by the Borrower at the time they created the listing.\n",
    "\n",
    "4. EmploymentStatus: The employment status of the borrower at the time they posted the listing.\n",
    "\n",
    "5. IsBorrowerHomeowner: A Borrower will be classified as a homowner if they have a mortgage on their credit profile or provide documentation confirming they are a homeowner.\n",
    "\n",
    "6. IncomeRange: The income range of the borrower at the time the listing was created.\n",
    "\n",
    "7. IncomeVerifiable: The borrower indicated they have the required documentation to support their income.\n",
    "\n",
    "8. StatedMonthlyIncome: The monthly income the borrower stated at the time the listing was created.\n",
    "\n",
    "9. DebtToIncomeRatio: The debt to income ratio of the borrower at the time the credit profile was pulled. This value is Null if the debt to income ratio is not available. This value is capped at 10.01 (any debt to income ratio larger than 1000% will be returned as 1001%).\n",
    "\n",
    "10. BorrowerState: The two letter abbreviation of the state of the address of the borrower at the time the Listing was created.\n",
    "\n",
    "\n",
    "\n",
    "**Features related to the Loan disbursed to the borrower**\n",
    "\n",
    "1. LoanNumber: Unique numeric value associated with the loan.\n",
    "\n",
    "3. LoanOriginationQuarter: The quarter in which the loan was originated.\n",
    "\n",
    "4. LoanStatus: The current status of the loan: Cancelled, Chargedoff, Completed, Current, Defaulted, FinalPaymentInProgress, PastDue. The PastDue status will be accompanied by a delinquency bucket.\n",
    "\n",
    "5. ClosedDate: Closed date is applicable for Cancelled, Completed, Chargedoff and Defaulted loan statuses. \n",
    "\n",
    "6. TotalProsperLoans: Number of Prosper loans the borrower at the time they created this listing. This value will be null if the borrower had no prior loans.\n",
    "\n"
   ]
  },
  {
   "cell_type": "markdown",
   "metadata": {},
   "source": [
    "## Data Wrangling"
   ]
  },
  {
   "cell_type": "code",
   "execution_count": 7,
   "metadata": {},
   "outputs": [],
   "source": [
    "#create a dataframe containing the colomns of interest in the loan_data\n",
    "columns = ['BorrowerAPR','BorrowerRate','ListingCategory (numeric)','BorrowerState','Occupation','EmploymentStatus','IsBorrowerHomeowner','IncomeRange','IncomeVerifiable','StatedMonthlyIncome','DebtToIncomeRatio','LoanNumber','LoanOriginalAmount','LoanOriginationDate','LoanOriginationQuarter','Term','LoanStatus','ClosedDate','TotalProsperLoans']\n",
    "new_loan = loan_data[columns]"
   ]
  },
  {
   "cell_type": "code",
   "execution_count": 8,
   "metadata": {
    "scrolled": false
   },
   "outputs": [
    {
     "data": {
      "text/html": [
       "<div>\n",
       "<style scoped>\n",
       "    .dataframe tbody tr th:only-of-type {\n",
       "        vertical-align: middle;\n",
       "    }\n",
       "\n",
       "    .dataframe tbody tr th {\n",
       "        vertical-align: top;\n",
       "    }\n",
       "\n",
       "    .dataframe thead th {\n",
       "        text-align: right;\n",
       "    }\n",
       "</style>\n",
       "<table border=\"1\" class=\"dataframe\">\n",
       "  <thead>\n",
       "    <tr style=\"text-align: right;\">\n",
       "      <th></th>\n",
       "      <th>BorrowerAPR</th>\n",
       "      <th>BorrowerRate</th>\n",
       "      <th>ListingCategory (numeric)</th>\n",
       "      <th>BorrowerState</th>\n",
       "      <th>Occupation</th>\n",
       "      <th>EmploymentStatus</th>\n",
       "      <th>IsBorrowerHomeowner</th>\n",
       "      <th>IncomeRange</th>\n",
       "      <th>IncomeVerifiable</th>\n",
       "      <th>StatedMonthlyIncome</th>\n",
       "      <th>DebtToIncomeRatio</th>\n",
       "      <th>LoanNumber</th>\n",
       "      <th>LoanOriginalAmount</th>\n",
       "      <th>LoanOriginationDate</th>\n",
       "      <th>LoanOriginationQuarter</th>\n",
       "      <th>Term</th>\n",
       "      <th>LoanStatus</th>\n",
       "      <th>ClosedDate</th>\n",
       "      <th>TotalProsperLoans</th>\n",
       "    </tr>\n",
       "  </thead>\n",
       "  <tbody>\n",
       "    <tr>\n",
       "      <th>0</th>\n",
       "      <td>0.16516</td>\n",
       "      <td>0.1580</td>\n",
       "      <td>0</td>\n",
       "      <td>CO</td>\n",
       "      <td>Other</td>\n",
       "      <td>Self-employed</td>\n",
       "      <td>True</td>\n",
       "      <td>$25,000-49,999</td>\n",
       "      <td>True</td>\n",
       "      <td>3083.333333</td>\n",
       "      <td>0.17</td>\n",
       "      <td>19141</td>\n",
       "      <td>9425</td>\n",
       "      <td>2007-09-12 00:00:00</td>\n",
       "      <td>Q3 2007</td>\n",
       "      <td>36</td>\n",
       "      <td>Completed</td>\n",
       "      <td>2009-08-14 00:00:00</td>\n",
       "      <td>NaN</td>\n",
       "    </tr>\n",
       "    <tr>\n",
       "      <th>1</th>\n",
       "      <td>0.12016</td>\n",
       "      <td>0.0920</td>\n",
       "      <td>2</td>\n",
       "      <td>CO</td>\n",
       "      <td>Professional</td>\n",
       "      <td>Employed</td>\n",
       "      <td>False</td>\n",
       "      <td>$50,000-74,999</td>\n",
       "      <td>True</td>\n",
       "      <td>6125.000000</td>\n",
       "      <td>0.18</td>\n",
       "      <td>134815</td>\n",
       "      <td>10000</td>\n",
       "      <td>2014-03-03 00:00:00</td>\n",
       "      <td>Q1 2014</td>\n",
       "      <td>36</td>\n",
       "      <td>Current</td>\n",
       "      <td>NaN</td>\n",
       "      <td>NaN</td>\n",
       "    </tr>\n",
       "    <tr>\n",
       "      <th>2</th>\n",
       "      <td>0.28269</td>\n",
       "      <td>0.2750</td>\n",
       "      <td>0</td>\n",
       "      <td>GA</td>\n",
       "      <td>Other</td>\n",
       "      <td>Not available</td>\n",
       "      <td>False</td>\n",
       "      <td>Not displayed</td>\n",
       "      <td>True</td>\n",
       "      <td>2083.333333</td>\n",
       "      <td>0.06</td>\n",
       "      <td>6466</td>\n",
       "      <td>3001</td>\n",
       "      <td>2007-01-17 00:00:00</td>\n",
       "      <td>Q1 2007</td>\n",
       "      <td>36</td>\n",
       "      <td>Completed</td>\n",
       "      <td>2009-12-17 00:00:00</td>\n",
       "      <td>NaN</td>\n",
       "    </tr>\n",
       "    <tr>\n",
       "      <th>3</th>\n",
       "      <td>0.12528</td>\n",
       "      <td>0.0974</td>\n",
       "      <td>16</td>\n",
       "      <td>GA</td>\n",
       "      <td>Skilled Labor</td>\n",
       "      <td>Employed</td>\n",
       "      <td>True</td>\n",
       "      <td>$25,000-49,999</td>\n",
       "      <td>True</td>\n",
       "      <td>2875.000000</td>\n",
       "      <td>0.15</td>\n",
       "      <td>77296</td>\n",
       "      <td>10000</td>\n",
       "      <td>2012-11-01 00:00:00</td>\n",
       "      <td>Q4 2012</td>\n",
       "      <td>36</td>\n",
       "      <td>Current</td>\n",
       "      <td>NaN</td>\n",
       "      <td>NaN</td>\n",
       "    </tr>\n",
       "    <tr>\n",
       "      <th>4</th>\n",
       "      <td>0.24614</td>\n",
       "      <td>0.2085</td>\n",
       "      <td>2</td>\n",
       "      <td>MN</td>\n",
       "      <td>Executive</td>\n",
       "      <td>Employed</td>\n",
       "      <td>True</td>\n",
       "      <td>$100,000+</td>\n",
       "      <td>True</td>\n",
       "      <td>9583.333333</td>\n",
       "      <td>0.26</td>\n",
       "      <td>102670</td>\n",
       "      <td>15000</td>\n",
       "      <td>2013-09-20 00:00:00</td>\n",
       "      <td>Q3 2013</td>\n",
       "      <td>36</td>\n",
       "      <td>Current</td>\n",
       "      <td>NaN</td>\n",
       "      <td>1.0</td>\n",
       "    </tr>\n",
       "  </tbody>\n",
       "</table>\n",
       "</div>"
      ],
      "text/plain": [
       "   BorrowerAPR  BorrowerRate  ListingCategory (numeric) BorrowerState  \\\n",
       "0      0.16516        0.1580                          0            CO   \n",
       "1      0.12016        0.0920                          2            CO   \n",
       "2      0.28269        0.2750                          0            GA   \n",
       "3      0.12528        0.0974                         16            GA   \n",
       "4      0.24614        0.2085                          2            MN   \n",
       "\n",
       "      Occupation EmploymentStatus  IsBorrowerHomeowner     IncomeRange  \\\n",
       "0          Other    Self-employed                 True  $25,000-49,999   \n",
       "1   Professional         Employed                False  $50,000-74,999   \n",
       "2          Other    Not available                False   Not displayed   \n",
       "3  Skilled Labor         Employed                 True  $25,000-49,999   \n",
       "4      Executive         Employed                 True       $100,000+   \n",
       "\n",
       "   IncomeVerifiable  StatedMonthlyIncome  DebtToIncomeRatio  LoanNumber  \\\n",
       "0              True          3083.333333               0.17       19141   \n",
       "1              True          6125.000000               0.18      134815   \n",
       "2              True          2083.333333               0.06        6466   \n",
       "3              True          2875.000000               0.15       77296   \n",
       "4              True          9583.333333               0.26      102670   \n",
       "\n",
       "   LoanOriginalAmount  LoanOriginationDate LoanOriginationQuarter  Term  \\\n",
       "0                9425  2007-09-12 00:00:00                Q3 2007    36   \n",
       "1               10000  2014-03-03 00:00:00                Q1 2014    36   \n",
       "2                3001  2007-01-17 00:00:00                Q1 2007    36   \n",
       "3               10000  2012-11-01 00:00:00                Q4 2012    36   \n",
       "4               15000  2013-09-20 00:00:00                Q3 2013    36   \n",
       "\n",
       "  LoanStatus           ClosedDate  TotalProsperLoans  \n",
       "0  Completed  2009-08-14 00:00:00                NaN  \n",
       "1    Current                  NaN                NaN  \n",
       "2  Completed  2009-12-17 00:00:00                NaN  \n",
       "3    Current                  NaN                NaN  \n",
       "4    Current                  NaN                1.0  "
      ]
     },
     "execution_count": 8,
     "metadata": {},
     "output_type": "execute_result"
    }
   ],
   "source": [
    "#view the first five rows of the new_loan dataframe\n",
    "new_loan.head()"
   ]
  },
  {
   "cell_type": "code",
   "execution_count": 9,
   "metadata": {},
   "outputs": [],
   "source": [
    "#make a copy of the new_loan df\n",
    "loan = new_loan.copy()"
   ]
  },
  {
   "cell_type": "code",
   "execution_count": 10,
   "metadata": {
    "scrolled": true
   },
   "outputs": [
    {
     "name": "stdout",
     "output_type": "stream",
     "text": [
      "<class 'pandas.core.frame.DataFrame'>\n",
      "RangeIndex: 113937 entries, 0 to 113936\n",
      "Data columns (total 19 columns):\n",
      " #   Column                     Non-Null Count   Dtype  \n",
      "---  ------                     --------------   -----  \n",
      " 0   BorrowerAPR                113912 non-null  float64\n",
      " 1   BorrowerRate               113937 non-null  float64\n",
      " 2   ListingCategory (numeric)  113937 non-null  int64  \n",
      " 3   BorrowerState              108422 non-null  object \n",
      " 4   Occupation                 110349 non-null  object \n",
      " 5   EmploymentStatus           111682 non-null  object \n",
      " 6   IsBorrowerHomeowner        113937 non-null  bool   \n",
      " 7   IncomeRange                113937 non-null  object \n",
      " 8   IncomeVerifiable           113937 non-null  bool   \n",
      " 9   StatedMonthlyIncome        113937 non-null  float64\n",
      " 10  DebtToIncomeRatio          105383 non-null  float64\n",
      " 11  LoanNumber                 113937 non-null  int64  \n",
      " 12  LoanOriginalAmount         113937 non-null  int64  \n",
      " 13  LoanOriginationDate        113937 non-null  object \n",
      " 14  LoanOriginationQuarter     113937 non-null  object \n",
      " 15  Term                       113937 non-null  int64  \n",
      " 16  LoanStatus                 113937 non-null  object \n",
      " 17  ClosedDate                 55089 non-null   object \n",
      " 18  TotalProsperLoans          22085 non-null   float64\n",
      "dtypes: bool(2), float64(5), int64(4), object(8)\n",
      "memory usage: 15.0+ MB\n"
     ]
    }
   ],
   "source": [
    "#View a concise summary of the loan dataframe including the number of non-null values in each column\n",
    "loan.info()"
   ]
  },
  {
   "cell_type": "code",
   "execution_count": 11,
   "metadata": {},
   "outputs": [
    {
     "data": {
      "text/html": [
       "<div>\n",
       "<style scoped>\n",
       "    .dataframe tbody tr th:only-of-type {\n",
       "        vertical-align: middle;\n",
       "    }\n",
       "\n",
       "    .dataframe tbody tr th {\n",
       "        vertical-align: top;\n",
       "    }\n",
       "\n",
       "    .dataframe thead th {\n",
       "        text-align: right;\n",
       "    }\n",
       "</style>\n",
       "<table border=\"1\" class=\"dataframe\">\n",
       "  <thead>\n",
       "    <tr style=\"text-align: right;\">\n",
       "      <th></th>\n",
       "      <th>BorrowerAPR</th>\n",
       "      <th>BorrowerRate</th>\n",
       "      <th>ListingCategory (numeric)</th>\n",
       "      <th>StatedMonthlyIncome</th>\n",
       "      <th>DebtToIncomeRatio</th>\n",
       "      <th>LoanNumber</th>\n",
       "      <th>LoanOriginalAmount</th>\n",
       "      <th>Term</th>\n",
       "      <th>TotalProsperLoans</th>\n",
       "    </tr>\n",
       "  </thead>\n",
       "  <tbody>\n",
       "    <tr>\n",
       "      <th>count</th>\n",
       "      <td>113912.000000</td>\n",
       "      <td>113937.000000</td>\n",
       "      <td>113937.000000</td>\n",
       "      <td>1.139370e+05</td>\n",
       "      <td>105383.000000</td>\n",
       "      <td>113937.000000</td>\n",
       "      <td>113937.00000</td>\n",
       "      <td>113937.000000</td>\n",
       "      <td>22085.000000</td>\n",
       "    </tr>\n",
       "    <tr>\n",
       "      <th>mean</th>\n",
       "      <td>0.218828</td>\n",
       "      <td>0.192764</td>\n",
       "      <td>2.774209</td>\n",
       "      <td>5.608026e+03</td>\n",
       "      <td>0.275947</td>\n",
       "      <td>69444.474271</td>\n",
       "      <td>8337.01385</td>\n",
       "      <td>40.830248</td>\n",
       "      <td>1.421100</td>\n",
       "    </tr>\n",
       "    <tr>\n",
       "      <th>std</th>\n",
       "      <td>0.080364</td>\n",
       "      <td>0.074818</td>\n",
       "      <td>3.996797</td>\n",
       "      <td>7.478497e+03</td>\n",
       "      <td>0.551759</td>\n",
       "      <td>38930.479610</td>\n",
       "      <td>6245.80058</td>\n",
       "      <td>10.436212</td>\n",
       "      <td>0.764042</td>\n",
       "    </tr>\n",
       "    <tr>\n",
       "      <th>min</th>\n",
       "      <td>0.006530</td>\n",
       "      <td>0.000000</td>\n",
       "      <td>0.000000</td>\n",
       "      <td>0.000000e+00</td>\n",
       "      <td>0.000000</td>\n",
       "      <td>1.000000</td>\n",
       "      <td>1000.00000</td>\n",
       "      <td>12.000000</td>\n",
       "      <td>0.000000</td>\n",
       "    </tr>\n",
       "    <tr>\n",
       "      <th>25%</th>\n",
       "      <td>0.156290</td>\n",
       "      <td>0.134000</td>\n",
       "      <td>1.000000</td>\n",
       "      <td>3.200333e+03</td>\n",
       "      <td>0.140000</td>\n",
       "      <td>37332.000000</td>\n",
       "      <td>4000.00000</td>\n",
       "      <td>36.000000</td>\n",
       "      <td>1.000000</td>\n",
       "    </tr>\n",
       "    <tr>\n",
       "      <th>50%</th>\n",
       "      <td>0.209760</td>\n",
       "      <td>0.184000</td>\n",
       "      <td>1.000000</td>\n",
       "      <td>4.666667e+03</td>\n",
       "      <td>0.220000</td>\n",
       "      <td>68599.000000</td>\n",
       "      <td>6500.00000</td>\n",
       "      <td>36.000000</td>\n",
       "      <td>1.000000</td>\n",
       "    </tr>\n",
       "    <tr>\n",
       "      <th>75%</th>\n",
       "      <td>0.283810</td>\n",
       "      <td>0.250000</td>\n",
       "      <td>3.000000</td>\n",
       "      <td>6.825000e+03</td>\n",
       "      <td>0.320000</td>\n",
       "      <td>101901.000000</td>\n",
       "      <td>12000.00000</td>\n",
       "      <td>36.000000</td>\n",
       "      <td>2.000000</td>\n",
       "    </tr>\n",
       "    <tr>\n",
       "      <th>max</th>\n",
       "      <td>0.512290</td>\n",
       "      <td>0.497500</td>\n",
       "      <td>20.000000</td>\n",
       "      <td>1.750003e+06</td>\n",
       "      <td>10.010000</td>\n",
       "      <td>136486.000000</td>\n",
       "      <td>35000.00000</td>\n",
       "      <td>60.000000</td>\n",
       "      <td>8.000000</td>\n",
       "    </tr>\n",
       "  </tbody>\n",
       "</table>\n",
       "</div>"
      ],
      "text/plain": [
       "         BorrowerAPR   BorrowerRate  ListingCategory (numeric)  \\\n",
       "count  113912.000000  113937.000000              113937.000000   \n",
       "mean        0.218828       0.192764                   2.774209   \n",
       "std         0.080364       0.074818                   3.996797   \n",
       "min         0.006530       0.000000                   0.000000   \n",
       "25%         0.156290       0.134000                   1.000000   \n",
       "50%         0.209760       0.184000                   1.000000   \n",
       "75%         0.283810       0.250000                   3.000000   \n",
       "max         0.512290       0.497500                  20.000000   \n",
       "\n",
       "       StatedMonthlyIncome  DebtToIncomeRatio     LoanNumber  \\\n",
       "count         1.139370e+05      105383.000000  113937.000000   \n",
       "mean          5.608026e+03           0.275947   69444.474271   \n",
       "std           7.478497e+03           0.551759   38930.479610   \n",
       "min           0.000000e+00           0.000000       1.000000   \n",
       "25%           3.200333e+03           0.140000   37332.000000   \n",
       "50%           4.666667e+03           0.220000   68599.000000   \n",
       "75%           6.825000e+03           0.320000  101901.000000   \n",
       "max           1.750003e+06          10.010000  136486.000000   \n",
       "\n",
       "       LoanOriginalAmount           Term  TotalProsperLoans  \n",
       "count        113937.00000  113937.000000       22085.000000  \n",
       "mean           8337.01385      40.830248           1.421100  \n",
       "std            6245.80058      10.436212           0.764042  \n",
       "min            1000.00000      12.000000           0.000000  \n",
       "25%            4000.00000      36.000000           1.000000  \n",
       "50%            6500.00000      36.000000           1.000000  \n",
       "75%           12000.00000      36.000000           2.000000  \n",
       "max           35000.00000      60.000000           8.000000  "
      ]
     },
     "execution_count": 11,
     "metadata": {},
     "output_type": "execute_result"
    }
   ],
   "source": [
    "#Get useful descriptive statistics for each column of the loan dataframe\n",
    "loan.describe()"
   ]
  },
  {
   "cell_type": "code",
   "execution_count": 12,
   "metadata": {},
   "outputs": [
    {
     "data": {
      "text/plain": [
       "BorrowerAPR                     25\n",
       "BorrowerRate                     0\n",
       "ListingCategory (numeric)        0\n",
       "BorrowerState                 5515\n",
       "Occupation                    3588\n",
       "EmploymentStatus              2255\n",
       "IsBorrowerHomeowner              0\n",
       "IncomeRange                      0\n",
       "IncomeVerifiable                 0\n",
       "StatedMonthlyIncome              0\n",
       "DebtToIncomeRatio             8554\n",
       "LoanNumber                       0\n",
       "LoanOriginalAmount               0\n",
       "LoanOriginationDate              0\n",
       "LoanOriginationQuarter           0\n",
       "Term                             0\n",
       "LoanStatus                       0\n",
       "ClosedDate                   58848\n",
       "TotalProsperLoans            91852\n",
       "dtype: int64"
      ]
     },
     "execution_count": 12,
     "metadata": {},
     "output_type": "execute_result"
    }
   ],
   "source": [
    "# check for null values form the data set\n",
    "loan.isnull().sum()"
   ]
  },
  {
   "cell_type": "markdown",
   "metadata": {},
   "source": [
    "**Convert 'LoanOriginationDate' and 'ClosedDate'from string datatype to datetime format**"
   ]
  },
  {
   "cell_type": "code",
   "execution_count": 13,
   "metadata": {},
   "outputs": [],
   "source": [
    "#Convert from string datatype to datetime format \n",
    "loan['LoanOriginationDate']= pd.to_datetime(loan['LoanOriginationDate'])\n",
    "loan['ClosedDate']= pd.to_datetime(loan['ClosedDate'])"
   ]
  },
  {
   "cell_type": "markdown",
   "metadata": {},
   "source": [
    "**Split the 'LoanOriginationDate' & 'ClosedDate' columns into month and year respectively**"
   ]
  },
  {
   "cell_type": "code",
   "execution_count": 14,
   "metadata": {},
   "outputs": [],
   "source": [
    "#create month and year columns from LoanOriginationDate & ClosedDate\n",
    "loan['Loan_Month']= pd.DatetimeIndex(loan['LoanOriginationDate']).month\n",
    "loan['Loan_Year']= pd.DatetimeIndex(loan['LoanOriginationDate']).year\n",
    "loan['Closed_Month']= pd.DatetimeIndex(loan['ClosedDate']).month\n",
    "loan['Closed_Year']= pd.DatetimeIndex(loan['ClosedDate']).year"
   ]
  },
  {
   "cell_type": "markdown",
   "metadata": {},
   "source": [
    "**Convert 'Term', 'Loan_Month', 'Loan_Year', 'Closed_Month', 'Closed_Year' from datetime format to object datatype**"
   ]
  },
  {
   "cell_type": "code",
   "execution_count": 15,
   "metadata": {},
   "outputs": [],
   "source": [
    "#change Term, Loan_Month, Loan_Year, Closed_Month, Closed_Year to object datatype\n",
    "loan['Term']=loan['Term'].astype(object)\n",
    "loan['Loan_Month']= loan['Loan_Month'].astype(object)\n",
    "loan['Loan_Year']= loan['Loan_Year'].astype(object)\n",
    "loan['Closed_Month']= loan['Closed_Month'].astype(object)\n",
    "loan['Closed_Year']= loan['Closed_Year'].astype(object)"
   ]
  },
  {
   "cell_type": "markdown",
   "metadata": {},
   "source": [
    "**Convert 'LoanNumber' from numerical datatype (integer) to string datatype**"
   ]
  },
  {
   "cell_type": "code",
   "execution_count": 16,
   "metadata": {},
   "outputs": [],
   "source": [
    "#Convert from numerical datatype to string/object format\n",
    "loan = loan.astype({\"LoanNumber\": str})"
   ]
  },
  {
   "cell_type": "code",
   "execution_count": 17,
   "metadata": {
    "scrolled": false
   },
   "outputs": [
    {
     "name": "stdout",
     "output_type": "stream",
     "text": [
      "<class 'pandas.core.frame.DataFrame'>\n",
      "RangeIndex: 113937 entries, 0 to 113936\n",
      "Data columns (total 23 columns):\n",
      " #   Column                     Non-Null Count   Dtype         \n",
      "---  ------                     --------------   -----         \n",
      " 0   BorrowerAPR                113912 non-null  float64       \n",
      " 1   BorrowerRate               113937 non-null  float64       \n",
      " 2   ListingCategory (numeric)  113937 non-null  int64         \n",
      " 3   BorrowerState              108422 non-null  object        \n",
      " 4   Occupation                 110349 non-null  object        \n",
      " 5   EmploymentStatus           111682 non-null  object        \n",
      " 6   IsBorrowerHomeowner        113937 non-null  bool          \n",
      " 7   IncomeRange                113937 non-null  object        \n",
      " 8   IncomeVerifiable           113937 non-null  bool          \n",
      " 9   StatedMonthlyIncome        113937 non-null  float64       \n",
      " 10  DebtToIncomeRatio          105383 non-null  float64       \n",
      " 11  LoanNumber                 113937 non-null  object        \n",
      " 12  LoanOriginalAmount         113937 non-null  int64         \n",
      " 13  LoanOriginationDate        113937 non-null  datetime64[ns]\n",
      " 14  LoanOriginationQuarter     113937 non-null  object        \n",
      " 15  Term                       113937 non-null  object        \n",
      " 16  LoanStatus                 113937 non-null  object        \n",
      " 17  ClosedDate                 55089 non-null   datetime64[ns]\n",
      " 18  TotalProsperLoans          22085 non-null   float64       \n",
      " 19  Loan_Month                 113937 non-null  object        \n",
      " 20  Loan_Year                  113937 non-null  object        \n",
      " 21  Closed_Month               55089 non-null   object        \n",
      " 22  Closed_Year                55089 non-null   object        \n",
      "dtypes: bool(2), datetime64[ns](2), float64(5), int64(2), object(12)\n",
      "memory usage: 18.5+ MB\n"
     ]
    }
   ],
   "source": [
    "#View a concise summary of the loan dataframe including the number of non-null values in each column\n",
    "loan.info()"
   ]
  },
  {
   "cell_type": "code",
   "execution_count": 18,
   "metadata": {
    "scrolled": false
   },
   "outputs": [
    {
     "data": {
      "text/plain": [
       "CA    14717\n",
       "TX     6842\n",
       "NY     6729\n",
       "FL     6720\n",
       "IL     5921\n",
       "GA     5008\n",
       "OH     4197\n",
       "MI     3593\n",
       "VA     3278\n",
       "NJ     3097\n",
       "NC     3084\n",
       "WA     3048\n",
       "PA     2972\n",
       "MD     2821\n",
       "MO     2615\n",
       "MN     2318\n",
       "MA     2242\n",
       "CO     2210\n",
       "IN     2078\n",
       "AZ     1901\n",
       "WI     1842\n",
       "OR     1817\n",
       "TN     1737\n",
       "AL     1679\n",
       "CT     1627\n",
       "SC     1122\n",
       "NV     1090\n",
       "KS     1062\n",
       "KY      983\n",
       "OK      971\n",
       "LA      954\n",
       "UT      877\n",
       "AR      855\n",
       "MS      787\n",
       "NE      674\n",
       "ID      599\n",
       "NH      551\n",
       "NM      472\n",
       "RI      435\n",
       "HI      409\n",
       "WV      391\n",
       "DC      382\n",
       "MT      330\n",
       "DE      300\n",
       "VT      207\n",
       "AK      200\n",
       "SD      189\n",
       "IA      186\n",
       "WY      150\n",
       "ME      101\n",
       "ND       52\n",
       "Name: BorrowerState, dtype: int64"
      ]
     },
     "execution_count": 18,
     "metadata": {},
     "output_type": "execute_result"
    }
   ],
   "source": [
    "#View the unique entries in the BorrowerState column (loan dataframe)\n",
    "loan['BorrowerState'].value_counts()"
   ]
  },
  {
   "cell_type": "markdown",
   "metadata": {},
   "source": [
    "**From the above, we can see that all the entries in 'BorrowerState' column are the two letter abbreviation of the state of the address of the borrower in the United States of America at the time the Listing was created.\n",
    "We will go ahead to replace these two letter abbrevations with their actual state names.** [Resource from wikipedia](https://simple.wikipedia.org/wiki/List_of_U.S._states_by_traditional_abbreviation)"
   ]
  },
  {
   "cell_type": "code",
   "execution_count": 19,
   "metadata": {},
   "outputs": [],
   "source": [
    "# create an empty list called 'borrower_state'\n",
    "borrower_state = []\n",
    "# create a loop which will iterate over all the rows in the column 'BorrowerState' and assign values in the list if the condition below is met\n",
    "for x in loan['BorrowerState']:\n",
    "    if x == 'CA': borrower_state.append('California')\n",
    "    if x == 'TX': borrower_state.append('Texas')\n",
    "    if x == 'NY': borrower_state.append('New York')\n",
    "    if x == 'FL': borrower_state.append('Florida')\n",
    "    if x == 'IL': borrower_state.append('Illinois')\n",
    "    if x == 'GA': borrower_state.append('Georgia')\n",
    "    if x == 'OH': borrower_state.append('Ohio')\n",
    "    if x == 'MI': borrower_state.append('Michigan')\n",
    "    if x == 'VA': borrower_state.append('Virginia')\n",
    "    if x == 'NJ': borrower_state.append('New Jersey')\n",
    "    if x == 'NC': borrower_state.append('North Carolina')\n",
    "    if x == 'WA': borrower_state.append('Washington')\n",
    "    if x == 'PA': borrower_state.append('Pennsylvania')\n",
    "    if x == 'MD': borrower_state.append('Maryland')\n",
    "    if x == 'MO': borrower_state.append('Missouri')\n",
    "    if x == 'MN': borrower_state.append('Minnesota')\n",
    "    if x == 'MA': borrower_state.append('Massachusetts')\n",
    "    if x == 'CO': borrower_state.append('Colorado')\n",
    "    if x == 'IN': borrower_state.append('Indiana')\n",
    "    if x == 'AZ': borrower_state.append('Arizona')\n",
    "    if x == 'WI': borrower_state.append('Wisconsin')\n",
    "    if x == 'OR': borrower_state.append('Oregon')\n",
    "    if x == 'TN': borrower_state.append('Tennessee')\n",
    "    if x == 'AL': borrower_state.append('Alabama')\n",
    "    if x == 'CT': borrower_state.append('Connecticut')\n",
    "    if x == 'SC': borrower_state.append('South Carolina')\n",
    "    if x == 'NV': borrower_state.append('Nevada')\n",
    "    if x == 'KS': borrower_state.append('Kansas')\n",
    "    if x == 'KY': borrower_state.append('Kentucky')\n",
    "    if x == 'OK': borrower_state.append('Oklahoma')\n",
    "    if x == 'LA': borrower_state.append('Louisiana')\n",
    "    if x == 'UT': borrower_state.append('Utah')\n",
    "    if x == 'AR': borrower_state.append('Arkansas')\n",
    "    if x == 'MS': borrower_state.append('Mississippi')\n",
    "    if x == 'NE': borrower_state.append('Nebraska')\n",
    "    if x == 'ID': borrower_state.append('Idaho')\n",
    "    if x == 'NH': borrower_state.append('New Hampshire')\n",
    "    if x == 'NM': borrower_state.append('New Mexico')\n",
    "    if x == 'RI': borrower_state.append('Rhode Island')\n",
    "    if x == 'HI': borrower_state.append('Hawaii')\n",
    "    if x == 'WV': borrower_state.append('West Virginia')\n",
    "    if x == 'DC': borrower_state.append('District of Columbia')\n",
    "    if x == 'MT': borrower_state.append('Montana')\n",
    "    if x == 'DE': borrower_state.append('Delaware')\n",
    "    if x == 'VT': borrower_state.append('Vermont')\n",
    "    if x == 'AK': borrower_state.append('Alaska')\n",
    "    if x == 'SD': borrower_state.append('South Dakota')\n",
    "    if x == 'IA': borrower_state.append('Iowa')\n",
    "    if x == 'WY': borrower_state.append('Wyomig')\n",
    "    if x == 'ME': borrower_state.append('Maine')\n",
    "    if x == 'ND': borrower_state.append('North Dakota')\n",
    "\n",
    "#store the appended values in the 'borrower_state' pandas series into a new column called 'borrower_state' in the loan data frame  \n",
    "                                \n",
    "loan['borrower_state']= pd.Series(borrower_state)"
   ]
  },
  {
   "cell_type": "code",
   "execution_count": 20,
   "metadata": {},
   "outputs": [
    {
     "data": {
      "text/plain": [
       "California              14717\n",
       "Texas                    6842\n",
       "New York                 6729\n",
       "Florida                  6720\n",
       "Illinois                 5921\n",
       "Georgia                  5008\n",
       "Ohio                     4197\n",
       "Michigan                 3593\n",
       "Virginia                 3278\n",
       "New Jersey               3097\n",
       "North Carolina           3084\n",
       "Washington               3048\n",
       "Pennsylvania             2972\n",
       "Maryland                 2821\n",
       "Missouri                 2615\n",
       "Minnesota                2318\n",
       "Massachusetts            2242\n",
       "Colorado                 2210\n",
       "Indiana                  2078\n",
       "Arizona                  1901\n",
       "Wisconsin                1842\n",
       "Oregon                   1817\n",
       "Tennessee                1737\n",
       "Alabama                  1679\n",
       "Connecticut              1627\n",
       "South Carolina           1122\n",
       "Nevada                   1090\n",
       "Kansas                   1062\n",
       "Kentucky                  983\n",
       "Oklahoma                  971\n",
       "Louisiana                 954\n",
       "Utah                      877\n",
       "Arkansas                  855\n",
       "Mississippi               787\n",
       "Nebraska                  674\n",
       "Idaho                     599\n",
       "New Hampshire             551\n",
       "New Mexico                472\n",
       "Rhode Island              435\n",
       "Hawaii                    409\n",
       "West Virginia             391\n",
       "District of Columbia      382\n",
       "Montana                   330\n",
       "Delaware                  300\n",
       "Vermont                   207\n",
       "Alaska                    200\n",
       "South Dakota              189\n",
       "Iowa                      186\n",
       "Wyomig                    150\n",
       "Maine                     101\n",
       "North Dakota               52\n",
       "Name: borrower_state, dtype: int64"
      ]
     },
     "execution_count": 20,
     "metadata": {},
     "output_type": "execute_result"
    }
   ],
   "source": [
    "#Confirm if the actaul state names are present in the new 'borrower_state' column (loan dataframe)\n",
    "loan['borrower_state'].value_counts()"
   ]
  },
  {
   "cell_type": "code",
   "execution_count": 21,
   "metadata": {},
   "outputs": [],
   "source": [
    "#Rename the 'ListingCategory (numeric)' column to 'ListingCategory'\n",
    "loan=loan.rename(columns={\"ListingCategory (numeric)\":\"ListingCategory\"})"
   ]
  },
  {
   "cell_type": "markdown",
   "metadata": {},
   "source": [
    "**From the datatset dictionary, we can see that the listening category is being represented by numbers**:\n",
    "\n",
    "0 - Not Available, 1 - Debt Consolidation, 2 - Home Improvement, 3 - Business, 4 - Personal Loan, 5 - Student Use, 6 - Auto, 7- Other, 8 - Baby&Adoption, 9 - Boat, 10 - Cosmetic Procedure, 11 - Engagement Ring, 12 - Green Loans, 13 - Household Expenses, 14 - Large Purchases, 15 - Medical/Dental, 16 - Motorcycle, 17 - RV, 18 - Taxes, 19 - Vacation, 20 - Wedding Loans.\n",
    "\n",
    "**However for the purpose of our analysis, we will go ahead to replace each number representation with the actual listing category name**"
   ]
  },
  {
   "cell_type": "code",
   "execution_count": 22,
   "metadata": {},
   "outputs": [],
   "source": [
    "# create an empty list called 'listing_category'\n",
    "listing_category = []\n",
    "# creat a loop which will iterate over all the rows in the 'ListingCategory' column and assign values in the list if the condition below is met\n",
    "for x in loan['ListingCategory']:\n",
    "    if x == 0: listing_category.append('Not available')\n",
    "    if x == 1: listing_category.append('Debt Consolidation')\n",
    "    if x == 2: listing_category.append('Home Improvement')\n",
    "    if x == 3: listing_category.append('Business')\n",
    "    if x == 4: listing_category.append('Personal Loan')\n",
    "    if x == 5: listing_category.append('Student Use')\n",
    "    if x == 6: listing_category.append('Auto')\n",
    "    if x == 7: listing_category.append('Other')\n",
    "    if x == 8: listing_category.append('Baby & Adoption')\n",
    "    if x == 9: listing_category.append('Boat')\n",
    "    if x == 10: listing_category.append('Cosmetic Procedure')\n",
    "    if x == 11: listing_category.append('Engagement Ring')\n",
    "    if x == 12: listing_category.append('Green Loans')\n",
    "    if x == 13: listing_category.append('Household Expenses')\n",
    "    if x == 14: listing_category.append('Large Purchases')\n",
    "    if x == 15: listing_category.append('Medical/Dental')\n",
    "    if x == 16: listing_category.append('Motorcycle')\n",
    "    if x == 17: listing_category.append('RV')\n",
    "    if x == 18: listing_category.append('Taxes')\n",
    "    if x == 19: listing_category.append('Vacation')\n",
    "    if x == 20: listing_category.append('Wedding Loans')\n",
    "    \n",
    "#store the append values in the 'listing_category' list into a new column called 'listing_category' in the loan data frame  \n",
    "                                \n",
    "loan['listing_category']= listing_category"
   ]
  },
  {
   "cell_type": "code",
   "execution_count": 23,
   "metadata": {
    "scrolled": true
   },
   "outputs": [
    {
     "data": {
      "text/plain": [
       "Debt Consolidation    58308\n",
       "Not available         16965\n",
       "Other                 10494\n",
       "Home Improvement       7433\n",
       "Business               7189\n",
       "Auto                   2572\n",
       "Personal Loan          2395\n",
       "Household Expenses     1996\n",
       "Medical/Dental         1522\n",
       "Taxes                   885\n",
       "Large Purchases         876\n",
       "Wedding Loans           771\n",
       "Vacation                768\n",
       "Student Use             756\n",
       "Motorcycle              304\n",
       "Engagement Ring         217\n",
       "Baby & Adoption         199\n",
       "Cosmetic Procedure       91\n",
       "Boat                     85\n",
       "Green Loans              59\n",
       "RV                       52\n",
       "Name: listing_category, dtype: int64"
      ]
     },
     "execution_count": 23,
     "metadata": {},
     "output_type": "execute_result"
    }
   ],
   "source": [
    "#Confirm if the actaul listing_category names are now present in the new 'listing_category' column (loan dataframe)\n",
    "loan['listing_category'].value_counts()"
   ]
  },
  {
   "cell_type": "code",
   "execution_count": 24,
   "metadata": {},
   "outputs": [],
   "source": [
    "#We can now proceed to drop both the former 'ListingCategory' and 'BorrowerState' columns\n",
    "loan=loan.drop('ListingCategory',axis=1)\n",
    "loan=loan.drop('BorrowerState',axis=1)"
   ]
  },
  {
   "cell_type": "code",
   "execution_count": 25,
   "metadata": {
    "scrolled": false
   },
   "outputs": [
    {
     "name": "stdout",
     "output_type": "stream",
     "text": [
      "<class 'pandas.core.frame.DataFrame'>\n",
      "RangeIndex: 113937 entries, 0 to 113936\n",
      "Data columns (total 23 columns):\n",
      " #   Column                  Non-Null Count   Dtype         \n",
      "---  ------                  --------------   -----         \n",
      " 0   BorrowerAPR             113912 non-null  float64       \n",
      " 1   BorrowerRate            113937 non-null  float64       \n",
      " 2   Occupation              110349 non-null  object        \n",
      " 3   EmploymentStatus        111682 non-null  object        \n",
      " 4   IsBorrowerHomeowner     113937 non-null  bool          \n",
      " 5   IncomeRange             113937 non-null  object        \n",
      " 6   IncomeVerifiable        113937 non-null  bool          \n",
      " 7   StatedMonthlyIncome     113937 non-null  float64       \n",
      " 8   DebtToIncomeRatio       105383 non-null  float64       \n",
      " 9   LoanNumber              113937 non-null  object        \n",
      " 10  LoanOriginalAmount      113937 non-null  int64         \n",
      " 11  LoanOriginationDate     113937 non-null  datetime64[ns]\n",
      " 12  LoanOriginationQuarter  113937 non-null  object        \n",
      " 13  Term                    113937 non-null  object        \n",
      " 14  LoanStatus              113937 non-null  object        \n",
      " 15  ClosedDate              55089 non-null   datetime64[ns]\n",
      " 16  TotalProsperLoans       22085 non-null   float64       \n",
      " 17  Loan_Month              113937 non-null  object        \n",
      " 18  Loan_Year               113937 non-null  object        \n",
      " 19  Closed_Month            55089 non-null   object        \n",
      " 20  Closed_Year             55089 non-null   object        \n",
      " 21  borrower_state          108422 non-null  object        \n",
      " 22  listing_category        113937 non-null  object        \n",
      "dtypes: bool(2), datetime64[ns](2), float64(5), int64(1), object(13)\n",
      "memory usage: 18.5+ MB\n"
     ]
    }
   ],
   "source": [
    "#View a concise summary of the loan dataframe including the number of non-null values in each column\n",
    "loan.info()"
   ]
  },
  {
   "cell_type": "code",
   "execution_count": 26,
   "metadata": {},
   "outputs": [
    {
     "data": {
      "text/html": [
       "<div>\n",
       "<style scoped>\n",
       "    .dataframe tbody tr th:only-of-type {\n",
       "        vertical-align: middle;\n",
       "    }\n",
       "\n",
       "    .dataframe tbody tr th {\n",
       "        vertical-align: top;\n",
       "    }\n",
       "\n",
       "    .dataframe thead th {\n",
       "        text-align: right;\n",
       "    }\n",
       "</style>\n",
       "<table border=\"1\" class=\"dataframe\">\n",
       "  <thead>\n",
       "    <tr style=\"text-align: right;\">\n",
       "      <th></th>\n",
       "      <th>BorrowerAPR</th>\n",
       "      <th>BorrowerRate</th>\n",
       "      <th>StatedMonthlyIncome</th>\n",
       "      <th>DebtToIncomeRatio</th>\n",
       "      <th>LoanOriginalAmount</th>\n",
       "      <th>TotalProsperLoans</th>\n",
       "    </tr>\n",
       "  </thead>\n",
       "  <tbody>\n",
       "    <tr>\n",
       "      <th>count</th>\n",
       "      <td>113912.000000</td>\n",
       "      <td>113937.000000</td>\n",
       "      <td>1.139370e+05</td>\n",
       "      <td>105383.000000</td>\n",
       "      <td>113937.00000</td>\n",
       "      <td>22085.000000</td>\n",
       "    </tr>\n",
       "    <tr>\n",
       "      <th>mean</th>\n",
       "      <td>0.218828</td>\n",
       "      <td>0.192764</td>\n",
       "      <td>5.608026e+03</td>\n",
       "      <td>0.275947</td>\n",
       "      <td>8337.01385</td>\n",
       "      <td>1.421100</td>\n",
       "    </tr>\n",
       "    <tr>\n",
       "      <th>std</th>\n",
       "      <td>0.080364</td>\n",
       "      <td>0.074818</td>\n",
       "      <td>7.478497e+03</td>\n",
       "      <td>0.551759</td>\n",
       "      <td>6245.80058</td>\n",
       "      <td>0.764042</td>\n",
       "    </tr>\n",
       "    <tr>\n",
       "      <th>min</th>\n",
       "      <td>0.006530</td>\n",
       "      <td>0.000000</td>\n",
       "      <td>0.000000e+00</td>\n",
       "      <td>0.000000</td>\n",
       "      <td>1000.00000</td>\n",
       "      <td>0.000000</td>\n",
       "    </tr>\n",
       "    <tr>\n",
       "      <th>25%</th>\n",
       "      <td>0.156290</td>\n",
       "      <td>0.134000</td>\n",
       "      <td>3.200333e+03</td>\n",
       "      <td>0.140000</td>\n",
       "      <td>4000.00000</td>\n",
       "      <td>1.000000</td>\n",
       "    </tr>\n",
       "    <tr>\n",
       "      <th>50%</th>\n",
       "      <td>0.209760</td>\n",
       "      <td>0.184000</td>\n",
       "      <td>4.666667e+03</td>\n",
       "      <td>0.220000</td>\n",
       "      <td>6500.00000</td>\n",
       "      <td>1.000000</td>\n",
       "    </tr>\n",
       "    <tr>\n",
       "      <th>75%</th>\n",
       "      <td>0.283810</td>\n",
       "      <td>0.250000</td>\n",
       "      <td>6.825000e+03</td>\n",
       "      <td>0.320000</td>\n",
       "      <td>12000.00000</td>\n",
       "      <td>2.000000</td>\n",
       "    </tr>\n",
       "    <tr>\n",
       "      <th>max</th>\n",
       "      <td>0.512290</td>\n",
       "      <td>0.497500</td>\n",
       "      <td>1.750003e+06</td>\n",
       "      <td>10.010000</td>\n",
       "      <td>35000.00000</td>\n",
       "      <td>8.000000</td>\n",
       "    </tr>\n",
       "  </tbody>\n",
       "</table>\n",
       "</div>"
      ],
      "text/plain": [
       "         BorrowerAPR   BorrowerRate  StatedMonthlyIncome  DebtToIncomeRatio  \\\n",
       "count  113912.000000  113937.000000         1.139370e+05      105383.000000   \n",
       "mean        0.218828       0.192764         5.608026e+03           0.275947   \n",
       "std         0.080364       0.074818         7.478497e+03           0.551759   \n",
       "min         0.006530       0.000000         0.000000e+00           0.000000   \n",
       "25%         0.156290       0.134000         3.200333e+03           0.140000   \n",
       "50%         0.209760       0.184000         4.666667e+03           0.220000   \n",
       "75%         0.283810       0.250000         6.825000e+03           0.320000   \n",
       "max         0.512290       0.497500         1.750003e+06          10.010000   \n",
       "\n",
       "       LoanOriginalAmount  TotalProsperLoans  \n",
       "count        113937.00000       22085.000000  \n",
       "mean           8337.01385           1.421100  \n",
       "std            6245.80058           0.764042  \n",
       "min            1000.00000           0.000000  \n",
       "25%            4000.00000           1.000000  \n",
       "50%            6500.00000           1.000000  \n",
       "75%           12000.00000           2.000000  \n",
       "max           35000.00000           8.000000  "
      ]
     },
     "execution_count": 26,
     "metadata": {},
     "output_type": "execute_result"
    }
   ],
   "source": [
    "#Get useful descriptive statistics for each column of the loan dataframe\n",
    "loan.describe()"
   ]
  },
  {
   "cell_type": "markdown",
   "metadata": {},
   "source": [
    "## Univariate Exploration"
   ]
  },
  {
   "cell_type": "markdown",
   "metadata": {},
   "source": [
    "**Q1: What is the distribution of the loan listing category?**"
   ]
  },
  {
   "cell_type": "markdown",
   "metadata": {},
   "source": [
    "**Define**: Use the .value_counts() method to get the numerical distribution of the entries, then proceed to create a countplot (barchart) showing the distribution of the loan listing category"
   ]
  },
  {
   "cell_type": "code",
   "execution_count": 27,
   "metadata": {},
   "outputs": [
    {
     "data": {
      "text/plain": [
       "Debt Consolidation    58308\n",
       "Not available         16965\n",
       "Other                 10494\n",
       "Home Improvement       7433\n",
       "Business               7189\n",
       "Auto                   2572\n",
       "Personal Loan          2395\n",
       "Household Expenses     1996\n",
       "Medical/Dental         1522\n",
       "Taxes                   885\n",
       "Large Purchases         876\n",
       "Wedding Loans           771\n",
       "Vacation                768\n",
       "Student Use             756\n",
       "Motorcycle              304\n",
       "Engagement Ring         217\n",
       "Baby & Adoption         199\n",
       "Cosmetic Procedure       91\n",
       "Boat                     85\n",
       "Green Loans              59\n",
       "RV                       52\n",
       "Name: listing_category, dtype: int64"
      ]
     },
     "execution_count": 27,
     "metadata": {},
     "output_type": "execute_result"
    }
   ],
   "source": [
    "loan.listing_category.value_counts()"
   ]
  },
  {
   "cell_type": "code",
   "execution_count": 28,
   "metadata": {
    "scrolled": true
   },
   "outputs": [
    {
     "data": {
      "image/png": "[encoded data removed]",
      "text/plain": [
       "<Figure size 1080x576 with 1 Axes>"
      ]
     },
     "metadata": {
      "needs_background": "light"
     },
     "output_type": "display_data"
    }
   ],
   "source": [
    "#Create a countplot to showing the distribution of the loan listing category\n",
    "plt.figure(figsize = [15, 8])\n",
    "color = sb.color_palette()[3]\n",
    "order = loan.listing_category.value_counts().index\n",
    "sb.countplot(data = loan, y = 'listing_category', color = color, order = order)\n",
    "plt.title(\" DISTRIBUTION OF LOAN LISTING CATEGORY\", fontsize = 14, weight = (\"bold\"))\n",
    "plt.xlabel(\"COUNT\", fontsize = 12)\n",
    "plt.ylabel(\"LISTING CATEGORY\", fontsize = 12);"
   ]
  },
  {
   "cell_type": "markdown",
   "metadata": {},
   "source": [
    "**Answer**: The countplot above shows us that majority of the borrowers, approximately 58308 request loans for debt consolidation"
   ]
  },
  {
   "cell_type": "markdown",
   "metadata": {},
   "source": [
    "**Q2: What is the distribution of the borrower states?, What are the top 15 borrower states?**"
   ]
  },
  {
   "cell_type": "markdown",
   "metadata": {},
   "source": [
    "**Define**: Use the .value_counts() method to get the numerical distribution of the entries, then proceed to create a countplot (barchart) showing the distribution of the borrower states."
   ]
  },
  {
   "cell_type": "code",
   "execution_count": 29,
   "metadata": {},
   "outputs": [
    {
     "data": {
      "text/plain": [
       "California        14717\n",
       "Texas              6842\n",
       "New York           6729\n",
       "Florida            6720\n",
       "Illinois           5921\n",
       "Georgia            5008\n",
       "Ohio               4197\n",
       "Michigan           3593\n",
       "Virginia           3278\n",
       "New Jersey         3097\n",
       "North Carolina     3084\n",
       "Washington         3048\n",
       "Pennsylvania       2972\n",
       "Maryland           2821\n",
       "Missouri           2615\n",
       "Name: borrower_state, dtype: int64"
      ]
     },
     "execution_count": 29,
     "metadata": {},
     "output_type": "execute_result"
    }
   ],
   "source": [
    "loan['borrower_state'].value_counts()[:15]"
   ]
  },
  {
   "cell_type": "code",
   "execution_count": 30,
   "metadata": {
    "scrolled": true
   },
   "outputs": [
    {
     "data": {
      "image/png": "[encoded data removed]",
      "text/plain": [
       "<Figure size 1080x576 with 1 Axes>"
      ]
     },
     "metadata": {
      "needs_background": "light"
     },
     "output_type": "display_data"
    }
   ],
   "source": [
    "#create a countplot to show the distribution across the top 15 States in the USA \n",
    "plt.figure(figsize = [15, 8])\n",
    "order = loan['borrower_state'].value_counts().iloc[:15].index\n",
    "sb.countplot(data = loan, y = 'borrower_state', order = order)\n",
    "plt.title(\" DISTRIBUTION OF TOP 15 BORROWER STATES\", fontsize = 14, weight = (\"bold\"))\n",
    "plt.xlabel(\"COUNT\", fontsize = 12)\n",
    "plt.ylabel(\"BORROWER STATE\", fontsize = 12);"
   ]
  },
  {
   "cell_type": "markdown",
   "metadata": {},
   "source": [
    "**Answer**:Carlifonia is the state with the highest number of borrowers, they are approximately 14717.\n",
    "The top 15 states are:\n",
    "\n",
    "1. California\n",
    "2. Texas\n",
    "3. New York\n",
    "4. Florida\n",
    "5. Illinois\n",
    "6. Georgia\n",
    "7. Ohio\n",
    "8. Michigan\n",
    "9. Virginia\n",
    "10. New Jersey\n",
    "11. North Carolina\n",
    "12. Washington\n",
    "13. Pennsylvania\n",
    "14. Maryland\n",
    "15. Missouri"
   ]
  },
  {
   "cell_type": "code",
   "execution_count": 31,
   "metadata": {
    "scrolled": true
   },
   "outputs": [
    {
     "data": {
      "text/plain": [
       "''"
      ]
     },
     "execution_count": 31,
     "metadata": {},
     "output_type": "execute_result"
    },
    {
     "data": {
      "image/png": "[encoded data removed]",
      "text/plain": [
       "<Figure size 864x720 with 1 Axes>"
      ]
     },
     "metadata": {
      "needs_background": "light"
     },
     "output_type": "display_data"
    }
   ],
   "source": [
    "#create a countplot to show the distribution of the borrower States \n",
    "plt.figure(figsize = [12, 10])\n",
    "order = loan['borrower_state'].value_counts().index\n",
    "sb.countplot(data = loan, y = 'borrower_state', order = order)\n",
    "plt.title(\" DISTRIBUTION OF BORROWERS ACROSS THE 51 STATES\", fontsize = 14, weight = (\"bold\"))\n",
    "plt.xlabel(\"COUNT\", fontsize = 12)\n",
    "plt.ylabel(\"BORROWER STATE\", fontsize = 12)\n",
    ";"
   ]
  },
  {
   "cell_type": "markdown",
   "metadata": {},
   "source": [
    "**Answer**:North Dakota is the state with the least number of borrowers. The least 5 states are:\n",
    "\n",
    "1. South Dakota\n",
    "2. Iowa\n",
    "3. Wyoming\n",
    "4. Maine\n",
    "5. North Dakota"
   ]
  },
  {
   "cell_type": "markdown",
   "metadata": {},
   "source": [
    "**Q3: What is the distribution of the Borrowers' Employment Status?**"
   ]
  },
  {
   "cell_type": "markdown",
   "metadata": {},
   "source": [
    "**Define**: Use the .value_counts() method to get the numerical distribution of the entries, then proceed to create a countplot (barchart) showing the distribution of the borrowers' employment status."
   ]
  },
  {
   "cell_type": "code",
   "execution_count": 32,
   "metadata": {},
   "outputs": [
    {
     "data": {
      "text/plain": [
       "Employed         67322\n",
       "Full-time        26355\n",
       "Self-employed     6134\n",
       "Not available     5347\n",
       "Other             3806\n",
       "Part-time         1088\n",
       "Not employed       835\n",
       "Retired            795\n",
       "Name: EmploymentStatus, dtype: int64"
      ]
     },
     "execution_count": 32,
     "metadata": {},
     "output_type": "execute_result"
    }
   ],
   "source": [
    "loan['EmploymentStatus'].value_counts()"
   ]
  },
  {
   "cell_type": "code",
   "execution_count": 33,
   "metadata": {
    "scrolled": true
   },
   "outputs": [
    {
     "data": {
      "image/png": "[encoded data removed]",
      "text/plain": [
       "<Figure size 1080x576 with 1 Axes>"
      ]
     },
     "metadata": {
      "needs_background": "light"
     },
     "output_type": "display_data"
    }
   ],
   "source": [
    "#create an horizontal countplot (barchart) to display the distribution of the borrowers' EmploymentStatus\n",
    "plt.figure(figsize = [15, 8])\n",
    "color = sb.color_palette()[4]\n",
    "order = loan['EmploymentStatus'].value_counts().index\n",
    "sb.countplot(data = loan, y = 'EmploymentStatus', color = color, order = order)\n",
    "plt.title(\" DISTRIBUTION OF BORROWERS' EMPLOYEMENT STATUS\", fontsize = 14, weight = (\"bold\"))\n",
    "plt.xlabel(\"COUNT\", fontsize = 12)\n",
    "plt.ylabel(\"EMPLOYMENT STATUS\", fontsize = 12);"
   ]
  },
  {
   "cell_type": "markdown",
   "metadata": {},
   "source": [
    "**Answer**: Majority of the borrowers are employed (67322), almost 70,000."
   ]
  },
  {
   "cell_type": "markdown",
   "metadata": {},
   "source": [
    "**Q4: What is the distribution of the borrowers' occupation?, What are the top 10 occupations?**"
   ]
  },
  {
   "cell_type": "markdown",
   "metadata": {},
   "source": [
    "**Define**: Use the .value_counts() method to get the numerical distribution of the entries, then proceed to create a countplot (barchart) showing the distribution of the borrowers' occupations."
   ]
  },
  {
   "cell_type": "code",
   "execution_count": 34,
   "metadata": {
    "scrolled": false
   },
   "outputs": [
    {
     "data": {
      "text/plain": [
       "Other                                28617\n",
       "Professional                         13628\n",
       "Computer Programmer                   4478\n",
       "Executive                             4311\n",
       "Teacher                               3759\n",
       "Administrative Assistant              3688\n",
       "Analyst                               3602\n",
       "Sales - Commission                    3446\n",
       "Accountant/CPA                        3233\n",
       "Clerical                              3164\n",
       "Sales - Retail                        2797\n",
       "Skilled Labor                         2746\n",
       "Retail Management                     2602\n",
       "Nurse (RN)                            2489\n",
       "Construction                          1790\n",
       "Truck Driver                          1675\n",
       "Laborer                               1595\n",
       "Police Officer/Correction Officer     1578\n",
       "Civil Service                         1457\n",
       "Engineer - Mechanical                 1406\n",
       "Name: Occupation, dtype: int64"
      ]
     },
     "execution_count": 34,
     "metadata": {},
     "output_type": "execute_result"
    }
   ],
   "source": [
    "loan['Occupation'].value_counts()[:20]"
   ]
  },
  {
   "cell_type": "code",
   "execution_count": 35,
   "metadata": {
    "scrolled": false
   },
   "outputs": [
    {
     "data": {
      "image/png": "[encoded data removed]",
      "text/plain": [
       "<Figure size 1080x576 with 1 Axes>"
      ]
     },
     "metadata": {
      "needs_background": "light"
     },
     "output_type": "display_data"
    }
   ],
   "source": [
    "#create an horizontal countplot (barchart) to display the distribution of the borrowers' occupation.\n",
    "#We can see the top 10 occupations from this plot\n",
    "plt.figure(figsize = [15, 8])\n",
    "color = sb.color_palette()[2]\n",
    "order = loan['Occupation'].value_counts().iloc[:10].index\n",
    "sb.countplot(data = loan, y = 'Occupation', color = color, order = order)\n",
    "plt.title(\" DISTRIBUTION OF BORROWERS' OCCUPATION\", fontsize = 14, weight = (\"bold\"))\n",
    "plt.xlabel(\"COUNT\", fontsize = 12)\n",
    "plt.ylabel(\"OCCUPATION\", fontsize = 12);"
   ]
  },
  {
   "cell_type": "markdown",
   "metadata": {},
   "source": [
    "**Answer**: Majority of the borrowers (almost 30,000) have other occupations asides the ones provided. Almost 15,000 borrowers are professionals."
   ]
  },
  {
   "cell_type": "markdown",
   "metadata": {},
   "source": [
    "**Q5: What is the distribution of the borrowers' income range?**"
   ]
  },
  {
   "cell_type": "markdown",
   "metadata": {},
   "source": [
    "**Define**: Use the .value_counts() method to get the numerical distribution of the entries, then proceed to create a countplot (barchart) showing the distribution of the borrowers' Income range."
   ]
  },
  {
   "cell_type": "code",
   "execution_count": 36,
   "metadata": {},
   "outputs": [
    {
     "data": {
      "text/plain": [
       "$25,000-49,999    32192\n",
       "$50,000-74,999    31050\n",
       "$100,000+         17337\n",
       "$75,000-99,999    16916\n",
       "Not displayed      7741\n",
       "$1-24,999          7274\n",
       "Not employed        806\n",
       "$0                  621\n",
       "Name: IncomeRange, dtype: int64"
      ]
     },
     "execution_count": 36,
     "metadata": {},
     "output_type": "execute_result"
    }
   ],
   "source": [
    "loan['IncomeRange'].value_counts()"
   ]
  },
  {
   "cell_type": "code",
   "execution_count": 37,
   "metadata": {
    "scrolled": true
   },
   "outputs": [
    {
     "data": {
      "image/png": "[encoded data removed]",
      "text/plain": [
       "<Figure size 1080x576 with 1 Axes>"
      ]
     },
     "metadata": {
      "needs_background": "light"
     },
     "output_type": "display_data"
    }
   ],
   "source": [
    "#create an horizontal countplot (barchart) to display the distribution of the borrowers' Income range\n",
    "plt.figure(figsize = [15, 8])\n",
    "color = sb.color_palette()[7]\n",
    "order = ['Not employed','$0','$1-24,999','$25,000-49,999','$50,000-74,999','$75,000-99,999','$100,000+','Not displayed']\n",
    "sb.countplot(data= loan, y = 'IncomeRange', color = color, order = order)\n",
    "plt.title(\" DISTRIBUTION OF BORROWERS' INCOME RANGE\", fontsize = 14, weight = (\"bold\"))\n",
    "plt.xlabel(\"COUNT\", fontsize = 12)\n",
    "plt.ylabel(\"INCOME RANGE\", fontsize = 12);"
   ]
  },
  {
   "cell_type": "markdown",
   "metadata": {},
   "source": [
    "**Answer**: Majority of the borrowers are of the income range 25,000 - 74,999 dollars range"
   ]
  },
  {
   "cell_type": "markdown",
   "metadata": {},
   "source": [
    "**Q6: What is the distribution of the loan term?**"
   ]
  },
  {
   "cell_type": "markdown",
   "metadata": {},
   "source": [
    "**Define**: Use the .value_counts() method to get the numerical distribution of the entries, then proceed to create a countplot (barchart) showing the distribution of the loan term."
   ]
  },
  {
   "cell_type": "code",
   "execution_count": 38,
   "metadata": {},
   "outputs": [
    {
     "data": {
      "text/plain": [
       "36    87778\n",
       "60    24545\n",
       "12     1614\n",
       "Name: Term, dtype: int64"
      ]
     },
     "execution_count": 38,
     "metadata": {},
     "output_type": "execute_result"
    }
   ],
   "source": [
    "loan['Term'].value_counts()"
   ]
  },
  {
   "cell_type": "code",
   "execution_count": 39,
   "metadata": {
    "scrolled": true
   },
   "outputs": [
    {
     "data": {
      "image/png": "[encoded data removed]",
      "text/plain": [
       "<Figure size 1080x576 with 1 Axes>"
      ]
     },
     "metadata": {
      "needs_background": "light"
     },
     "output_type": "display_data"
    }
   ],
   "source": [
    "#create an countplot (barchart) to display the distribution of the loan term\n",
    "plt.figure(figsize = [15, 8])\n",
    "color = sb.color_palette()[2]\n",
    "order = [12, 36, 60]\n",
    "sb.countplot(data = loan, x = 'Term', color = color, order = order)\n",
    "plt.title(\" DISTRIBUTION OF LOAN TERM\", fontsize = 14, weight = (\"bold\"))\n",
    "plt.ylabel(\"COUNT\", fontsize = 12)\n",
    "plt.xlabel(\"TERM (in months)\", fontsize = 12);"
   ]
  },
  {
   "cell_type": "markdown",
   "metadata": {},
   "source": [
    "**Answer**: Majority of the loans have a duration of 36 months "
   ]
  },
  {
   "cell_type": "markdown",
   "metadata": {},
   "source": [
    "**Q7: What is the distribution of the loan months?**"
   ]
  },
  {
   "cell_type": "markdown",
   "metadata": {},
   "source": [
    "**Define**: Use the .value_counts() method to get the numerical distribution of the entries, then proceed to create a countplot (barchart) showing the distribution of the loan months."
   ]
  },
  {
   "cell_type": "code",
   "execution_count": 40,
   "metadata": {
    "scrolled": false
   },
   "outputs": [
    {
     "data": {
      "text/plain": [
       "1     11395\n",
       "10    11043\n",
       "12    10708\n",
       "2      9728\n",
       "11     9635\n",
       "8      9592\n",
       "9      9221\n",
       "7      9154\n",
       "6      8847\n",
       "3      8555\n",
       "5      8500\n",
       "4      7559\n",
       "Name: Loan_Month, dtype: int64"
      ]
     },
     "execution_count": 40,
     "metadata": {},
     "output_type": "execute_result"
    }
   ],
   "source": [
    "loan['Loan_Month'].value_counts()"
   ]
  },
  {
   "cell_type": "code",
   "execution_count": 41,
   "metadata": {
    "scrolled": false
   },
   "outputs": [
    {
     "data": {
      "image/png": "[encoded data removed]",
      "text/plain": [
       "<Figure size 1080x576 with 1 Axes>"
      ]
     },
     "metadata": {
      "needs_background": "light"
     },
     "output_type": "display_data"
    }
   ],
   "source": [
    "#create an horizontal countplot (barchart) to display the distribution of the loan months\n",
    "plt.figure(figsize = [15, 8])\n",
    "color = sb.color_palette()[0]\n",
    "sb.countplot(data = loan, y = 'Loan_Month', color = color)\n",
    "plt.title(\" DISTRIBUTION OF LOANS MONTHS\", fontsize = 14, weight = (\"bold\"))\n",
    "plt.xlabel(\"COUNT\", fontsize = 12)\n",
    "plt.ylabel(\"MONTHS\", fontsize = 12);"
   ]
  },
  {
   "cell_type": "markdown",
   "metadata": {},
   "source": [
    "**Answer**: More Loans (Over 10,000) are taken in Janaury, October and December while April is the month with the least number of loans"
   ]
  },
  {
   "cell_type": "markdown",
   "metadata": {},
   "source": [
    "**Q8: What is the distribution of the loan months?**"
   ]
  },
  {
   "cell_type": "markdown",
   "metadata": {},
   "source": [
    "**Define**: Use the .value_counts() method to get the numerical distribution of the entries, then proceed to create a countplot (barchart) showing the distribution of the loan years."
   ]
  },
  {
   "cell_type": "code",
   "execution_count": 42,
   "metadata": {},
   "outputs": [
    {
     "data": {
      "text/plain": [
       "2013    34345\n",
       "2012    19553\n",
       "2014    12172\n",
       "2008    11552\n",
       "2007    11460\n",
       "2011    11228\n",
       "2006     5906\n",
       "2010     5652\n",
       "2009     2047\n",
       "2005       22\n",
       "Name: Loan_Year, dtype: int64"
      ]
     },
     "execution_count": 42,
     "metadata": {},
     "output_type": "execute_result"
    }
   ],
   "source": [
    "loan['Loan_Year'].value_counts()"
   ]
  },
  {
   "cell_type": "code",
   "execution_count": 43,
   "metadata": {
    "scrolled": true
   },
   "outputs": [
    {
     "data": {
      "image/png": "[encoded data removed]",
      "text/plain": [
       "<Figure size 1080x576 with 1 Axes>"
      ]
     },
     "metadata": {
      "needs_background": "light"
     },
     "output_type": "display_data"
    }
   ],
   "source": [
    "#create an horizontal countplot (barchart) to display the distribution of the loan years\n",
    "plt.figure(figsize = [15, 8])\n",
    "color = sb.color_palette()[4]\n",
    "sb.countplot(data = loan, y = 'Loan_Year', color = color)\n",
    "plt.title(\" DISTRIBUTION OF LOAN YEARS\", fontsize = 14, weight = (\"bold\"))\n",
    "plt.xlabel(\"COUNT\", fontsize = 12)\n",
    "plt.ylabel(\"YEARS\", fontsize = 12);"
   ]
  },
  {
   "cell_type": "markdown",
   "metadata": {},
   "source": [
    "**Answers**: Majority of the loans were taken in 2013 (almost 35,000 loans), no loan was taken in 2005."
   ]
  },
  {
   "cell_type": "markdown",
   "metadata": {},
   "source": [
    "**Q9: What is the distribution of borrowers who are home owners**"
   ]
  },
  {
   "cell_type": "markdown",
   "metadata": {},
   "source": [
    "**Define**: Use the .value_counts() method to get the numerical distribution of the entries, then proceed to create a doughnut chart showing the distribution of borrowers who are home owners."
   ]
  },
  {
   "cell_type": "code",
   "execution_count": 44,
   "metadata": {},
   "outputs": [
    {
     "data": {
      "text/plain": [
       "True     50.447177\n",
       "False    49.552823\n",
       "Name: IsBorrowerHomeowner, dtype: float64"
      ]
     },
     "execution_count": 44,
     "metadata": {},
     "output_type": "execute_result"
    }
   ],
   "source": [
    "x = loan['IsBorrowerHomeowner'].value_counts(normalize = True)\n",
    "homeowner = x * 100\n",
    "homeowner"
   ]
  },
  {
   "cell_type": "code",
   "execution_count": 45,
   "metadata": {},
   "outputs": [
    {
     "data": {
      "image/png": "[encoded data removed]",
      "text/plain": [
       "<Figure size 1080x360 with 1 Axes>"
      ]
     },
     "metadata": {},
     "output_type": "display_data"
    }
   ],
   "source": [
    "counts = homeowner\n",
    "# set the fig size for the plot\n",
    "plt.figure(figsize = [15, 5])\n",
    "# plot the data on a doughnut chart\n",
    "plt.pie(counts, labels = counts.index, autopct='%1.1f%%', startangle = 180,\n",
    "        counterclock = False, wedgeprops = {'width' : 0.7})\n",
    "plt.title(\"DISTRIBUTION OF HOME OWNERS AMONG THE BORROWERS\", fontsize = 14, weight = (\"bold\"));"
   ]
  },
  {
   "cell_type": "markdown",
   "metadata": {},
   "source": [
    "**Answers**: 50.4% of the borrowers are homeowners while 49.6% of the borrowers are not. The distribution chart shows an almost even distribution between borrowers who own a home and those who do not.\n",
    "This implies that home ownership might not have a significant effect on getting a loan from Prosper."
   ]
  },
  {
   "cell_type": "markdown",
   "metadata": {},
   "source": [
    "**Q10: What is the distribution of total propser loans gotten by the borrowers?**"
   ]
  },
  {
   "cell_type": "markdown",
   "metadata": {},
   "source": [
    "**Define**: Use the .value_counts() method to get the numerical distribution of the entries, then proceed to create a countplot showing the distribution of total propser loans gotten by the borrowers."
   ]
  },
  {
   "cell_type": "code",
   "execution_count": 46,
   "metadata": {},
   "outputs": [
    {
     "data": {
      "text/plain": [
       "1.0    15538\n",
       "2.0     4540\n",
       "3.0     1447\n",
       "4.0      417\n",
       "5.0      104\n",
       "6.0       29\n",
       "7.0        8\n",
       "8.0        1\n",
       "0.0        1\n",
       "Name: TotalProsperLoans, dtype: int64"
      ]
     },
     "execution_count": 46,
     "metadata": {},
     "output_type": "execute_result"
    }
   ],
   "source": [
    "loan['TotalProsperLoans'].value_counts()"
   ]
  },
  {
   "cell_type": "code",
   "execution_count": 47,
   "metadata": {
    "scrolled": true
   },
   "outputs": [
    {
     "data": {
      "image/png": "[encoded data removed]",
      "text/plain": [
       "<Figure size 1080x576 with 1 Axes>"
      ]
     },
     "metadata": {
      "needs_background": "light"
     },
     "output_type": "display_data"
    }
   ],
   "source": [
    "#create a countplot (barchart) to display the distribution of prosper loans among borrowers\n",
    "plt.figure(figsize = [15, 8])\n",
    "color = sb.color_palette()[4]\n",
    "sb.countplot(data = loan, x = 'TotalProsperLoans', color = color);\n",
    "plt.title('TOTAL PROSPER LOANS DISTRIBUTION ACROSS BORROWERS', fontsize=14, weight=(\"bold\"))\n",
    "plt.ylabel('COUNT OF BORROWERS', fontsize=12)\n",
    "plt.xlabel('TOTAL NUMBER OF PROSPER LOANS', fontsize=12);"
   ]
  },
  {
   "cell_type": "markdown",
   "metadata": {},
   "source": [
    "**Answers**: Majority of the borrowers who apply for a loan have only a single prosper loan (almost 16,000). Only 1 borrower has 8 propser loans."
   ]
  },
  {
   "cell_type": "markdown",
   "metadata": {},
   "source": [
    "**Q11: What is the distribution of the original loan amount?**"
   ]
  },
  {
   "cell_type": "markdown",
   "metadata": {},
   "source": [
    "**Define**: Create an histogram showing the distribution of the original loan amount"
   ]
  },
  {
   "cell_type": "code",
   "execution_count": 48,
   "metadata": {
    "scrolled": false
   },
   "outputs": [
    {
     "data": {
      "image/png": "[encoded data removed]",
      "text/plain": [
       "<Figure size 1080x576 with 1 Axes>"
      ]
     },
     "metadata": {
      "needs_background": "light"
     },
     "output_type": "display_data"
    }
   ],
   "source": [
    "# create an Histogram to show the distribution of the original loan amount\n",
    "plt.figure(figsize = [15, 8])\n",
    "bin = np.arange(0, loan['LoanOriginalAmount'].max()+1000, 1000)\n",
    "color = sb.color_palette()[0]\n",
    "plt.hist(data = loan, x = 'LoanOriginalAmount', color = color, bins = bin);\n",
    "plt.title('DISTRIBUTION OF THE ORIGINAL LOAN AMOUNT', fontsize=14, weight=(\"bold\"))\n",
    "plt.ylabel('COUNT', fontsize=12)\n",
    "plt.xlabel('ORIGINAL LOAN AMOUNT ($)', fontsize=12);"
   ]
  },
  {
   "cell_type": "markdown",
   "metadata": {},
   "source": [
    "**Answers**: The original loan amount is evenly distributed from around 1000 dollars to 35000 dollars. We have the highest peak at about 5000 dollars. We also have spikes around 10000 dollars, 15000 dollars, 20000 dollars, and 25000 dollars."
   ]
  },
  {
   "cell_type": "markdown",
   "metadata": {},
   "source": [
    "**Q12: What is the distribution of the borrower APR?**"
   ]
  },
  {
   "cell_type": "markdown",
   "metadata": {},
   "source": [
    "**Define**: Create an histogram showing the distribution of the borrower APR"
   ]
  },
  {
   "cell_type": "code",
   "execution_count": 49,
   "metadata": {},
   "outputs": [
    {
     "data": {
      "image/png": "[encoded data removed]",
      "text/plain": [
       "<Figure size 1080x576 with 1 Axes>"
      ]
     },
     "metadata": {
      "needs_background": "light"
     },
     "output_type": "display_data"
    }
   ],
   "source": [
    "# create an Histogram to show the distribution of the borrower APR\n",
    "plt.figure(figsize = [15, 8])\n",
    "bin = np.arange(0, loan['BorrowerAPR'].max()+0.01, 0.01)\n",
    "color = sb.color_palette()[5]\n",
    "plt.hist(data = loan, x = 'BorrowerAPR', color = color, bins = bin);\n",
    "plt.title('DISTRIBUTION OF THE BORROWER APR', fontsize=14, weight=(\"bold\"))\n",
    "plt.xlim(0, 0.45)\n",
    "plt.ylabel('COUNT', fontsize=12)\n",
    "plt.xlabel('BORROWER APR (%)', fontsize=12);"
   ]
  },
  {
   "cell_type": "markdown",
   "metadata": {},
   "source": [
    "**Answer**: The borrower's APR % rate is distributed just around 0.01 and 0.44. From the plot, we can see that the 'BorrowerAPR' distribution is a multimodal plot. The first peak is around 0.1% with 3000 borrowers, we have another peak around 0.18% with 6000 borrowers. We have a gradual decrease till we get to the highest peak at 0.36% having the largest count of about 8,000."
   ]
  },
  {
   "cell_type": "markdown",
   "metadata": {},
   "source": [
    "**Q12: What is the distribution of the borrower Rate?**"
   ]
  },
  {
   "cell_type": "markdown",
   "metadata": {},
   "source": [
    "**Define**: Create an histogram showing the distribution of the borrower Rate"
   ]
  },
  {
   "cell_type": "code",
   "execution_count": 50,
   "metadata": {},
   "outputs": [
    {
     "data": {
      "image/png": "[encoded data removed]",
      "text/plain": [
       "<Figure size 1080x576 with 1 Axes>"
      ]
     },
     "metadata": {
      "needs_background": "light"
     },
     "output_type": "display_data"
    }
   ],
   "source": [
    "# create an Histogram to show the distribution of the borrower Rate\n",
    "plt.figure(figsize = [15, 8])\n",
    "bin = np.arange(0, 0.4+0.01, 0.01)\n",
    "color = sb.color_palette()[9]\n",
    "plt.hist(data = loan, x = 'BorrowerRate', color = color, bins = bin);\n",
    "plt.title('BORROWER RATE DISTRIBUTION', fontsize=14, weight=(\"bold\"))\n",
    "plt.ylabel('COUNT', fontsize=12)\n",
    "plt.xlabel('BORROWER RATE', fontsize=12);"
   ]
  },
  {
   "cell_type": "markdown",
   "metadata": {},
   "source": [
    "**Answer**: The borrower's Rate is distributed just around 0.00 and 0.37. The highest peak is slightly above 0.30 with over 7000 borrower count."
   ]
  },
  {
   "cell_type": "markdown",
   "metadata": {},
   "source": [
    "**Q13: What is the distribution of the Stated Monthly Income?**"
   ]
  },
  {
   "cell_type": "markdown",
   "metadata": {},
   "source": [
    "**Define**: Create an histogram showing the distribution of the stated monthly income"
   ]
  },
  {
   "cell_type": "code",
   "execution_count": 51,
   "metadata": {
    "scrolled": true
   },
   "outputs": [
    {
     "data": {
      "image/png": "[encoded data removed]",
      "text/plain": [
       "<Figure size 1080x576 with 1 Axes>"
      ]
     },
     "metadata": {
      "needs_background": "light"
     },
     "output_type": "display_data"
    }
   ],
   "source": [
    "# create an Histogram to show the distribution of the borrower's stated monthly income\n",
    "plt.figure(figsize = [15, 8])\n",
    "bin = np.arange(0, loan['StatedMonthlyIncome'].max()+700, 700)\n",
    "color = sb.color_palette()[8]\n",
    "plt.hist(data = loan, x = 'StatedMonthlyIncome', color = color, bins = bin);\n",
    "plt.title(\"DISTRIBUTION OF BORROWERS' STATED MONTHLY INCOME\", fontsize=14, weight=(\"bold\"))\n",
    "plt.xlim(0, 42500)\n",
    "plt.ylabel('COUNT', fontsize=12)\n",
    "plt.xlabel('STATED MONTHLY INCOME', fontsize=12);"
   ]
  },
  {
   "cell_type": "markdown",
   "metadata": {},
   "source": [
    "**Answer**: The distribution of stated monthly income is severely right skrewed, we have mojority of stated monthly income less than 30,000 dollars"
   ]
  },
  {
   "cell_type": "markdown",
   "metadata": {},
   "source": [
    "### Discuss the distribution(s) of your variable(s) of interest. Were there any unusual points? Did you need to perform any transformations?\n",
    "I discovered the following after visualizing my variables of interest:\n",
    "- Majority of the borrowers, approximately 58308 request loans for debt consolidation\n",
    "- Carlifonia is the state with the highest number of borrowers, they are approximately 14717. North Dakota is the state with the least number of borrowers.\n",
    "- Majority of the borrowers (almost 70000) are employed \n",
    "- Majority of the borrowers (almost 30,000) have other occupations asides the ones provided. Almost 15,000 borrowers are professionals.\n",
    "- Majority of the borrowers are of the income range 25,000 - 74,999 dollars range\n",
    "- Majority of the loans have a duration of 36 months\n",
    "- More Loans (Over 10,000) are taken in Janaury, October and December while April is the month with the least number of loans\n",
    "- Majority of the loans were taken in 2013 (almost 35,000 loans), no loan was taken in 2005.\n",
    "- 50.4% of the borrowers are homeowners while 49.6% of the borrowers are not. The distribution plot shows an almost even distribution between borrowers who own a home and those who do not. This implies that home ownership might not have a significant effect on getting a loan from prosper.\n",
    "- Majority of the borrowers who apply for a loan have only a single prosper loan (almost 16,000). Only 1 borrower has 8 propser loans.\n",
    "- The original loan amount is evenly distributed from around 1000 dollars to 35000 dollars. We have the highest peak at about 5000 dollars. We also have spikes around 10000 dollars, 15000 dollars, 20000 dollars, and 25000 dollars.\n",
    "- The borrower's APR % rate is distributed just around 0.01 and 0.44. From the plot, we can see that the 'BorrowerAPR' distribution is a multimodal plot. The first peak is around 0.1% with 3000 borrowers, we have another peak around 0.18% with 6000 borrowers. We have a gradual decrease till we get to the highest peak at 0.36% having the largest count of about 8,000.\n",
    "- The borrower's Rate is distributed just around 0.00 and 0.37. The highest peak is slightly above 0.30 with over 7000 borrower count.\n",
    "- The Borrower APR has a similar trend with the Borrower Rate, this was an interesting discovery for me.\n",
    "\n",
    "### Of the features you investigated, were there any unusual distributions? Did you perform any operations on the data to tidy, adjust, or change the form of the data? If so, why did you do this?\n",
    "\n",
    "> **'BorrowerState' column**: I replaced the two state abbreviations with the actual state names. [Resource from wikipedia](https://simple.wikipedia.org/wiki/List_of_U.S._states_by_traditional_abbreviation). After transforming the data, i was able to get the top 15 borrower sates and the least 5 borrower states. \n",
    "\n",
    "> **'LoanOriginationDate' column**: I extracted the months and years of the loans from the loan original date column and was able to easily discover that majority of the loans were collected in 2013 and no loan was taken in 2005 (which was strange). Was proper out of operations in 2005?\n",
    "\n",
    ">**'Listing_Category' column**: I replaced the numeric representations of the listing categories with their actual names."
   ]
  },
  {
   "cell_type": "markdown",
   "metadata": {},
   "source": [
    "## Bivariate Exploration"
   ]
  },
  {
   "cell_type": "markdown",
   "metadata": {},
   "source": [
    "**Q14: What is the average borrower APR distribution by year?**"
   ]
  },
  {
   "cell_type": "code",
   "execution_count": 52,
   "metadata": {
    "scrolled": true
   },
   "outputs": [
    {
     "data": {
      "image/png": "[encoded data removed]",
      "text/plain": [
       "<Figure size 1080x576 with 1 Axes>"
      ]
     },
     "metadata": {
      "needs_background": "light"
     },
     "output_type": "display_data"
    }
   ],
   "source": [
    "plt.figure(figsize = [15, 8])\n",
    "color = sb.color_palette()[9]\n",
    "# creating a bar plot to show the average borrower Apr distribution by year.\n",
    "sb.barplot(data = loan, x = 'Loan_Year', y = 'BorrowerAPR', color = color)\n",
    "plt.title('AVERAGE BORROWER APR DISTRIBUTION BY YEAR', fontsize = 14, weight = ('bold'))\n",
    "plt.xlabel('LOAN ORIGINATION YEAR', fontsize=12)\n",
    "plt.ylabel('AVERAGE BORROWER APR (%)', fontsize=12);"
   ]
  },
  {
   "cell_type": "markdown",
   "metadata": {},
   "source": [
    "**Answer:** The distribution barplot above shows that 2006 had 0.2% average borrower APR % with a slight fall to 0.17% in 2007 and a gradual increase till 2011 which was the highest APR % rate of about 0.25%. A steady fall occurred from 2012 (0.23%) to 2014 (about 0.17%)"
   ]
  },
  {
   "cell_type": "markdown",
   "metadata": {},
   "source": [
    "**Q15: What is the relationship between Income Range and Borrowers who are Homeowners?**"
   ]
  },
  {
   "cell_type": "code",
   "execution_count": 53,
   "metadata": {},
   "outputs": [
    {
     "data": {
      "text/plain": [
       "IsBorrowerHomeowner  IncomeRange   \n",
       "False                $25,000-49,999    35.397368\n",
       "                     $50,000-74,999    24.671000\n",
       "                     $75,000-99,999    10.671461\n",
       "                     $1-24,999         10.186153\n",
       "                     Not displayed      9.072070\n",
       "                     $100,000+          8.324625\n",
       "                     Not employed       1.062718\n",
       "                     $0                 0.614605\n",
       "True                 $50,000-74,999    29.787049\n",
       "                     $100,000+         21.985803\n",
       "                     $25,000-49,999    21.237691\n",
       "                     $75,000-99,999    18.948119\n",
       "                     Not displayed      4.556526\n",
       "                     $1-24,999          2.649709\n",
       "                     $0                 0.476704\n",
       "                     Not employed       0.358398\n",
       "Name: IncomeRange, dtype: float64"
      ]
     },
     "execution_count": 53,
     "metadata": {},
     "output_type": "execute_result"
    }
   ],
   "source": [
    "(loan.groupby('IsBorrowerHomeowner')['IncomeRange'].value_counts(normalize = True)) * 100"
   ]
  },
  {
   "cell_type": "code",
   "execution_count": 54,
   "metadata": {
    "scrolled": false
   },
   "outputs": [
    {
     "data": {
      "image/png": "[encoded data removed]",
      "text/plain": [
       "<Figure size 1080x576 with 1 Axes>"
      ]
     },
     "metadata": {
      "needs_background": "light"
     },
     "output_type": "display_data"
    }
   ],
   "source": [
    "plt.figure(figsize = [15, 8])\n",
    "order = ['Not employed','$0','$1-24,999','$25,000-49,999','$50,000-74,999','$75,000-99,999','$100,000+','Not displayed']\n",
    "sb.countplot(data= loan, x = 'IncomeRange', hue = 'IsBorrowerHomeowner', order = order, palette = 'Greens')\n",
    "plt.title(\"RELATIONSHIP BETWEEN INCOME RANGE AND HOME OWNERS\", fontsize = 14, weight = (\"bold\"))\n",
    "plt.xlabel(\"INCOME RANGE\", fontsize = 12)\n",
    "plt.ylabel(\"BORROWERS COUNT\", fontsize = 12);"
   ]
  },
  {
   "cell_type": "markdown",
   "metadata": {},
   "source": [
    "**Answers:** Borrowers with income range from 50,000-100,000+ dollars are mostly homeowners while borrowers with income range from 1,000-49,000+ dollars are do not own a home."
   ]
  },
  {
   "cell_type": "markdown",
   "metadata": {},
   "source": [
    "**Q16: What is the relationship between a Borrower's Employment Status and owning a home?**"
   ]
  },
  {
   "cell_type": "code",
   "execution_count": 55,
   "metadata": {
    "scrolled": false
   },
   "outputs": [
    {
     "data": {
      "image/png": "[encoded data removed]",
      "text/plain": [
       "<Figure size 1080x576 with 1 Axes>"
      ]
     },
     "metadata": {
      "needs_background": "light"
     },
     "output_type": "display_data"
    }
   ],
   "source": [
    "plt.figure(figsize = [15, 8])\n",
    "order = loan['EmploymentStatus'].value_counts().index\n",
    "sb.countplot(data= loan, x = 'EmploymentStatus', hue = 'IsBorrowerHomeowner', order = order, palette = 'Reds')\n",
    "plt.title(\"RELATIONSHIP BETWEEN EMPLOYMENT STATUS AND HOME OWNERS\", fontsize = 14, weight = (\"bold\"))\n",
    "plt.xlabel(\"EMPLOYMENT STATUS\", fontsize = 12)\n",
    "plt.ylabel(\"BORROWERS COUNT\", fontsize = 12);"
   ]
  },
  {
   "cell_type": "markdown",
   "metadata": {},
   "source": [
    "**Answers:** Majority of the employed borrowers are homeowners"
   ]
  },
  {
   "cell_type": "markdown",
   "metadata": {},
   "source": [
    "**Q17: What is the relationship between employment status and loan term?**"
   ]
  },
  {
   "cell_type": "code",
   "execution_count": 56,
   "metadata": {
    "scrolled": true
   },
   "outputs": [
    {
     "data": {
      "image/png": "[encoded data removed]",
      "text/plain": [
       "<Figure size 1080x576 with 1 Axes>"
      ]
     },
     "metadata": {
      "needs_background": "light"
     },
     "output_type": "display_data"
    }
   ],
   "source": [
    "plt.figure(figsize = [15, 8])\n",
    "order = loan['EmploymentStatus'].value_counts().index\n",
    "sb.countplot(data= loan, x = 'EmploymentStatus', hue = 'Term', order = order, palette = 'Blues')\n",
    "plt.title(\"RELATIONSHIP BETWEEN EMPLOYMENT STATUS AND LOAN TERM\", fontsize = 14, weight = (\"bold\"))\n",
    "plt.xlabel(\"EMPLOYMENT STATUS\", fontsize = 12)\n",
    "plt.ylabel(\"BORROWERS COUNT\", fontsize = 12);"
   ]
  },
  {
   "cell_type": "markdown",
   "metadata": {},
   "source": [
    "**Answers:** Borrowers with full time employment status tend to take loans with term duration of 36months.\n",
    "Employed borrowers tend to take loans with 36months duration."
   ]
  },
  {
   "cell_type": "markdown",
   "metadata": {},
   "source": [
    "### Talk about some of the relationships you observed in this part of the investigation. How did the feature(s) of interest vary with other features in the dataset?\n",
    "\n",
    "> Majority of the employed borrowers are homeowners\n",
    "\n",
    "> 2006 had 0.2% average borrower APR % with a slight fall to 0.17% in 2007 and a gradual increase till 2011 which was the highest APR % rate of about 0.25%. A steady fall occurred from 2012 (0.23%) to 2014 (about 0.17%)\n",
    "\n",
    "> Borrowers with income range from 50,000-100,000+ dollars are mostly homeowners while borrowers with income range from 1,000-49,000+ dollars are do not own a home.\n",
    "\n",
    "\n",
    "### Did you observe any interesting relationships between the other features (not the main feature(s) of interest)?\n",
    "\n",
    "> Borrowers with full time employment status tend to take loans with term duration of 36months.\n",
    "Employed borrowers tend to take loans with 36months duration. This is interesting to me as i would assume that they have a stable monthly source of income i.e their salary"
   ]
  },
  {
   "cell_type": "markdown",
   "metadata": {},
   "source": [
    "## Multivariate Exploration"
   ]
  },
  {
   "cell_type": "markdown",
   "metadata": {},
   "source": [
    "**Q18: What are the correlations between BorrowerAPR','BorrowerRate','LoanOriginalAmount, and 'StatedMonthlyIncome'?**"
   ]
  },
  {
   "cell_type": "code",
   "execution_count": 57,
   "metadata": {},
   "outputs": [],
   "source": [
    "#store all the numerical variables in a variable called 'num_vars'\n",
    "num_vars = [ 'BorrowerAPR','BorrowerRate','LoanOriginalAmount','StatedMonthlyIncome']"
   ]
  },
  {
   "cell_type": "code",
   "execution_count": 58,
   "metadata": {},
   "outputs": [
    {
     "data": {
      "image/png": "[encoded data removed]",
      "text/plain": [
       "<Figure size 1080x576 with 2 Axes>"
      ]
     },
     "metadata": {
      "needs_background": "light"
     },
     "output_type": "display_data"
    }
   ],
   "source": [
    "# creat a heatmap plot to show correlation between the numerical variables\n",
    "plt.figure(figsize = [15, 8])\n",
    "sb.heatmap(loan[num_vars].corr(), annot = True, fmt = '.3f',\n",
    "           cmap = 'vlag_r', center = 0)\n",
    "plt.title('CORRELATION BETWEEN BORROWER APR, BORROWER RATE, LOAN AMOUNT AND STATED MONTHLY INCOME', fontsize=14, weight=(\"bold\"));"
   ]
  },
  {
   "cell_type": "markdown",
   "metadata": {},
   "source": [
    "**Answers:** \n",
    "- The correlation coefficient indicates that the borrower rate and borrower APR a have strong positive correlation meaning that they are directly proportional i.e the rise in one vale leads to the rise in the other. \n",
    "\n",
    "- We can also see that the Loan original amount has a weak correlation with the borrowers rate and borrower APR. This means that the borrower rate and borrower APR are negatively correlated with the loan original amount. Therefore, the higher the loan amount, the lower the Borrower Rate and Borrower APR. \n",
    "\n",
    "- The loan original amount is positively correlated with the stated monthly income. Therefore, the higher the stated monthly income, the higher the original loan amount received by the borrower."
   ]
  },
  {
   "cell_type": "markdown",
   "metadata": {},
   "source": [
    "**Q19: How does verifiable income affect the relationship between loan original amount and the income range of borrowers?**"
   ]
  },
  {
   "cell_type": "code",
   "execution_count": 59,
   "metadata": {
    "scrolled": true
   },
   "outputs": [
    {
     "data": {
      "image/png": "[encoded data removed]",
      "text/plain": [
       "<Figure size 1080x576 with 2 Axes>"
      ]
     },
     "metadata": {
      "needs_background": "light"
     },
     "output_type": "display_data"
    }
   ],
   "source": [
    "#Create a boxplot to show the effect of verifiable income on the relationship between loan original amount and income range\n",
    "order = ['Not employed','$0','$1-24,999','$25,000-49,999','$50,000-74,999','$75,000-99,999','$100,000+','Not displayed']\n",
    "box = sb.FacetGrid(data = loan, col = 'IncomeVerifiable', height = 5)\n",
    "box.fig.set_size_inches(15,8)\n",
    "box.map(sb.boxplot, 'LoanOriginalAmount', 'IncomeRange', order = order)\n",
    "plt.suptitle(\"RELATIONSHIP BETWEEN INCOME RANGE AND LOAN AMOUNT BASED ON INCOME VERIFIABLE\", fontsize = 14, weight = (\"bold\"), y = 1.04);\n"
   ]
  },
  {
   "cell_type": "markdown",
   "metadata": {},
   "source": [
    "**Answers:** Borrowers who earn 100,000+ dollars and have verified their income tend to get larger loan original amount than those whose income are not verifiable. The borrowers with verified incomes seem to get higher loan amounts."
   ]
  },
  {
   "cell_type": "markdown",
   "metadata": {},
   "source": [
    "### Talk about some of the relationships you observed in this part of the investigation. Were there features that strengthened each other in terms of looking at your feature(s) of interest?\n",
    "\n",
    "> Verifiable income has an effect on the original loan amount disbursed to a borrower. Borrowers who earn 100,000+ dollars and have verified their income tend to get larger loan original amount than those whose income are not verifiable\n",
    "\n",
    "> The borrower rate and borrower APR a have strong positive correlation meaning that they are directly proportional i.e the rise in one vale leads to the rise in the other.\n",
    "\n",
    "### Were there any interesting or surprising interactions between features?\n",
    "\n",
    "> The Loan original amount has a weak correlation with the borrowers rate and borrower APR.\n",
    "\n",
    "> The loan original amount is positively correlated with the stated monthly income. Therefore, the higher the stated monthly income, the higher the original loan amount received by the borrower."
   ]
  },
  {
   "cell_type": "markdown",
   "metadata": {},
   "source": [
    "## Conclusions\n",
    "\n",
    "Out of 81 loan features, I selected 21 columns and stored in a dataframe called 'loan' for my analysis including 5 major columns of interest which are:\n",
    "\n",
    "**Features related to the Borrower**\n",
    "- BorrowerAPR: The Borrower's Annual Percentage Rate (APR) for the loan.\n",
    "- BorrowerRate: The Borrower's interest rate for this loan.\n",
    "\n",
    "**Features related to the Loan disbursed to the borrower**\n",
    "- LoanOriginalAmount: The origination amount of the loan.\n",
    "- LoanOriginationDate: The date the loan was originated.\n",
    "- Term: The length of the loan expressed in months.\n",
    "\n",
    "The loan dataframe was wrangled to achieve proper data visulization.\n",
    "\n",
    "A key insight during the univariate analysis was understanding the fact that home ownership distribution was almost evenly distributed, meaning home ownership did not have a significant effect on getting a loan from prosper. After researching the two letter state abbrevations on wikipedia [Resource from wikipedia](https://simple.wikipedia.org/wiki/List_of_U.S._states_by_traditional_abbreviation) and transforming the 'BorrowerState' column, it was interesting to know that Carlifonia is the state with the highest number of borrowers and North Dakota is the state with the least number of borrowers. I also discovered that majority of the borrowers (almost 70000) are employed and they have an income range of 25,000 - 74,999 dollars. Another insightful information was the fact that majority of the loans were collected in 2013 and no loan was taken in 2005, this was very strange to me. Was Prosper out of operations in 2005? I think this is an important insight to investigate further.\n",
    "\n",
    "Investigating further during my bivariate analysis, I discovered that Borrowers with full time employment status tend to take loans with term duration of 36months. Employed borrowers tend to take loans with 36months duration. This is interesting to me as i would assume that they have a stable monthly source of income i.e their salary. I also discovered that majority of the employed borrowers are homeowners\n",
    "\n",
    "The multivariate analysis reavealed that verifiable income has an effect on the original loan amount disbursed to a borrower. Borrowers who earn 100,000+ dollars and have verified their income tend to get larger loan original amount than those whose income are not verifiable. The borrower rate and borrower APR a have strong positive correlation meaning that they are directly proportional i.e the rise in one vale leads to the rise in the other. Also, the Loan original amount has a weak correlation with the borrowers rate and borrower APR.\n",
    "\n",
    "Generally, the borrower's APR and having verifiable income seem to be crucial when giving out loans to borrowers."
   ]
  }
 ],
 "metadata": {
  "kernelspec": {
   "display_name": "Python 3 (ipykernel)",
   "language": "python",
   "name": "python3"
  },
  "language_info": {
   "codemirror_mode": {
    "name": "ipython",
    "version": 3
   },
   "file_extension": ".py",
   "mimetype": "text/x-python",
   "name": "python",
   "nbconvert_exporter": "python",
   "pygments_lexer": "ipython3",
   "version": "3.9.12"
  }
 },
 "nbformat": 4,
 "nbformat_minor": 2
}
